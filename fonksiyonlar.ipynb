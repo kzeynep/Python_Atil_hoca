{
  "nbformat": 4,
  "nbformat_minor": 0,
  "metadata": {
    "colab": {
      "provenance": [],
      "authorship_tag": "ABX9TyNfmoD0V4xmmapJVYCSWdy9",
      "include_colab_link": true
    },
    "kernelspec": {
      "name": "python3",
      "display_name": "Python 3"
    },
    "language_info": {
      "name": "python"
    }
  },
  "cells": [
    {
      "cell_type": "markdown",
      "metadata": {
        "id": "view-in-github",
        "colab_type": "text"
      },
      "source": [
        "<a href=\"https://colab.research.google.com/github/kzeynep/Python_Atil_hoca/blob/main/fonksiyonlar.ipynb\" target=\"_parent\"><img src=\"https://colab.research.google.com/assets/colab-badge.svg\" alt=\"Open In Colab\"/></a>"
      ]
    },
    {
      "cell_type": "markdown",
      "source": [
        "Fonksiyonlar >> def : kod blokları , girdi alabilir çıktı verebilir"
      ],
      "metadata": {
        "id": "9RZJ5PX35cke"
      }
    },
    {
      "cell_type": "code",
      "source": [
        "def hello_python ():\n",
        "  print(\"hello\")\n",
        "  print(\"python\")"
      ],
      "metadata": {
        "id": "wX0FDFJR5gbZ"
      },
      "execution_count": 1,
      "outputs": []
    },
    {
      "cell_type": "code",
      "source": [
        "hello_python"
      ],
      "metadata": {
        "colab": {
          "base_uri": "https://localhost:8080/",
          "height": 104
        },
        "id": "OgxhkpQ560F6",
        "outputId": "f04efa9b-834d-433a-8185-d6a364cd171f"
      },
      "execution_count": 2,
      "outputs": [
        {
          "output_type": "execute_result",
          "data": {
            "text/plain": [
              "<function __main__.hello_python()>"
            ],
            "text/html": [
              "<div style=\"max-width:800px; border: 1px solid var(--colab-border-color);\"><style>\n",
              "      pre.function-repr-contents {\n",
              "        overflow-x: auto;\n",
              "        padding: 8px 12px;\n",
              "        max-height: 500px;\n",
              "      }\n",
              "\n",
              "      pre.function-repr-contents.function-repr-contents-collapsed {\n",
              "        cursor: pointer;\n",
              "        max-height: 100px;\n",
              "      }\n",
              "    </style>\n",
              "    <pre style=\"white-space: initial; background:\n",
              "         var(--colab-secondary-surface-color); padding: 8px 12px;\n",
              "         border-bottom: 1px solid var(--colab-border-color);\"><b>hello_python</b><br/>def hello_python()</pre><pre class=\"function-repr-contents function-repr-contents-collapsed\" style=\"\"><a class=\"filepath\" style=\"display:none\" href=\"#\">/tmp/ipython-input-2385465662.py</a>&lt;no docstring&gt;</pre></div>"
            ]
          },
          "metadata": {},
          "execution_count": 2
        }
      ]
    },
    {
      "cell_type": "code",
      "source": [
        "hello_python()"
      ],
      "metadata": {
        "colab": {
          "base_uri": "https://localhost:8080/"
        },
        "id": "iGfDUXZk61yh",
        "outputId": "88630da5-8931-4cdb-dcd4-7b82e884c452"
      },
      "execution_count": 3,
      "outputs": [
        {
          "output_type": "stream",
          "name": "stdout",
          "text": [
            "hello\n",
            "python\n"
          ]
        }
      ]
    },
    {
      "cell_type": "code",
      "source": [
        "def hello_name(name):\n",
        "  print(\"hello\")\n",
        "  print(name)"
      ],
      "metadata": {
        "id": "Dv36yBZh65Se"
      },
      "execution_count": 4,
      "outputs": []
    },
    {
      "cell_type": "code",
      "source": [
        "hello_name(\"zeynep\")"
      ],
      "metadata": {
        "colab": {
          "base_uri": "https://localhost:8080/"
        },
        "id": "25Xd-q9C7JJF",
        "outputId": "a02289ee-e283-4ceb-eb39-d02f0a1b9b17"
      },
      "execution_count": 5,
      "outputs": [
        {
          "output_type": "stream",
          "name": "stdout",
          "text": [
            "hello\n",
            "zeynep\n"
          ]
        }
      ]
    },
    {
      "cell_type": "code",
      "source": [
        "def sum_two_number(a,b):\n",
        "  print(a+b)"
      ],
      "metadata": {
        "id": "MLDpRo5R7MfK"
      },
      "execution_count": 6,
      "outputs": []
    },
    {
      "cell_type": "code",
      "source": [
        "sum_two_number(5,8)"
      ],
      "metadata": {
        "colab": {
          "base_uri": "https://localhost:8080/"
        },
        "id": "NpZ_jUqQ7VBK",
        "outputId": "f9ce257c-0e45-4e05-8a29-ba3dd377de27"
      },
      "execution_count": 7,
      "outputs": [
        {
          "output_type": "stream",
          "name": "stdout",
          "text": [
            "13\n"
          ]
        }
      ]
    },
    {
      "cell_type": "code",
      "source": [
        "def summation (num1,num2,num3):\n",
        "  print(num1+num2+num3)\n",
        ""
      ],
      "metadata": {
        "id": "NiJ3E0RW7Wjl"
      },
      "execution_count": 8,
      "outputs": []
    },
    {
      "cell_type": "code",
      "source": [
        "summation(10,23,32)"
      ],
      "metadata": {
        "colab": {
          "base_uri": "https://localhost:8080/"
        },
        "id": "Q_GYNAZq75vV",
        "outputId": "c2d9fad0-e631-4efc-910e-ef51cc6d6cd8"
      },
      "execution_count": 9,
      "outputs": [
        {
          "output_type": "stream",
          "name": "stdout",
          "text": [
            "65\n"
          ]
        }
      ]
    },
    {
      "cell_type": "code",
      "source": [
        "x = summation(10,23,32)"
      ],
      "metadata": {
        "colab": {
          "base_uri": "https://localhost:8080/"
        },
        "id": "OK1UhyfT77QA",
        "outputId": "6140dea9-9db8-4e03-83fa-b58bbd3c0ee0"
      },
      "execution_count": 10,
      "outputs": [
        {
          "output_type": "stream",
          "name": "stdout",
          "text": [
            "65\n"
          ]
        }
      ]
    },
    {
      "cell_type": "code",
      "source": [
        "x"
      ],
      "metadata": {
        "id": "tvJ4ltoh8Dp6"
      },
      "execution_count": 11,
      "outputs": []
    },
    {
      "cell_type": "code",
      "source": [
        "print(x)"
      ],
      "metadata": {
        "colab": {
          "base_uri": "https://localhost:8080/"
        },
        "id": "d3CbYq598Eud",
        "outputId": "f3e9760c-50a4-42c4-accd-25483b60f790"
      },
      "execution_count": 12,
      "outputs": [
        {
          "output_type": "stream",
          "name": "stdout",
          "text": [
            "None\n"
          ]
        }
      ]
    },
    {
      "cell_type": "code",
      "source": [
        "type(x)"
      ],
      "metadata": {
        "colab": {
          "base_uri": "https://localhost:8080/"
        },
        "id": "KGnsrDo38FjM",
        "outputId": "84d3c3cf-30a9-4f84-820e-37c04655bcf0"
      },
      "execution_count": 13,
      "outputs": [
        {
          "output_type": "execute_result",
          "data": {
            "text/plain": [
              "NoneType"
            ]
          },
          "metadata": {},
          "execution_count": 13
        }
      ]
    },
    {
      "cell_type": "code",
      "source": [
        "def return_summation(num1,num2,num3):\n",
        "  return num1+num2+num3"
      ],
      "metadata": {
        "id": "SMiHMGP28Gpg"
      },
      "execution_count": 14,
      "outputs": []
    },
    {
      "cell_type": "code",
      "source": [
        "return_summation(10,23,32)"
      ],
      "metadata": {
        "colab": {
          "base_uri": "https://localhost:8080/"
        },
        "id": "KXBByM2z8iZ-",
        "outputId": "1b3cc06e-dbcd-4505-fd23-be6597730359"
      },
      "execution_count": 15,
      "outputs": [
        {
          "output_type": "execute_result",
          "data": {
            "text/plain": [
              "65"
            ]
          },
          "metadata": {},
          "execution_count": 15
        }
      ]
    },
    {
      "cell_type": "code",
      "source": [
        "x = return_summation(10,23,32)"
      ],
      "metadata": {
        "id": "bz9xKH5Z8lBT"
      },
      "execution_count": 16,
      "outputs": []
    },
    {
      "cell_type": "code",
      "source": [
        "x"
      ],
      "metadata": {
        "colab": {
          "base_uri": "https://localhost:8080/"
        },
        "id": "AqjNChsu8oey",
        "outputId": "a3c00237-87c8-42a8-e7da-13b6ac67d4bc"
      },
      "execution_count": 17,
      "outputs": [
        {
          "output_type": "execute_result",
          "data": {
            "text/plain": [
              "65"
            ]
          },
          "metadata": {},
          "execution_count": 17
        }
      ]
    },
    {
      "cell_type": "markdown",
      "source": [
        "args >> birden fazla argüman kullanma da  , kwargs >> key varues vermede dictionary üretme de yardımcı olur\n"
      ],
      "metadata": {
        "id": "vnKlPSKq9Vy6"
      }
    },
    {
      "cell_type": "code",
      "source": [
        "def args_sum(*args):\n",
        "  return sum(args)"
      ],
      "metadata": {
        "id": "tOU0H5IP8pML"
      },
      "execution_count": 18,
      "outputs": []
    },
    {
      "cell_type": "code",
      "source": [
        "args_sum(10,20,30,40,50,60)"
      ],
      "metadata": {
        "colab": {
          "base_uri": "https://localhost:8080/"
        },
        "id": "G-rl17su9hyR",
        "outputId": "32ef7f72-6bb2-468f-fdb9-449a1de8e72b"
      },
      "execution_count": 19,
      "outputs": [
        {
          "output_type": "execute_result",
          "data": {
            "text/plain": [
              "210"
            ]
          },
          "metadata": {},
          "execution_count": 19
        }
      ]
    },
    {
      "cell_type": "code",
      "source": [
        "def kwargs_example(**kwargs):\n",
        "  print(kwargs)"
      ],
      "metadata": {
        "id": "B4VYeR-i9nDz"
      },
      "execution_count": 20,
      "outputs": []
    },
    {
      "cell_type": "code",
      "source": [
        "kwargs_example(apple=100,banana=150,melon=200)"
      ],
      "metadata": {
        "colab": {
          "base_uri": "https://localhost:8080/"
        },
        "id": "V8Znl55l990U",
        "outputId": "b55c177b-6e8a-4e62-b498-cab802a3441a"
      },
      "execution_count": 21,
      "outputs": [
        {
          "output_type": "stream",
          "name": "stdout",
          "text": [
            "{'apple': 100, 'banana': 150, 'melon': 200}\n"
          ]
        }
      ]
    },
    {
      "cell_type": "code",
      "source": [
        "myList = [3,5,7,10,20,30]"
      ],
      "metadata": {
        "id": "udjVQabJ-A-0"
      },
      "execution_count": 22,
      "outputs": []
    },
    {
      "cell_type": "code",
      "source": [
        "myResultList = []"
      ],
      "metadata": {
        "id": "kgTifInt-mQg"
      },
      "execution_count": 23,
      "outputs": []
    },
    {
      "cell_type": "code",
      "source": [
        "def string (myList):\n",
        "  for element in myList:\n",
        "    myResultList.append(element / 2)\n",
        "    return myResultList"
      ],
      "metadata": {
        "id": "QjiyeuDs-oTT"
      },
      "execution_count": 24,
      "outputs": []
    },
    {
      "cell_type": "code",
      "source": [
        "myResultList = string(myList)"
      ],
      "metadata": {
        "id": "cWSXsAaA--uX"
      },
      "execution_count": 25,
      "outputs": []
    },
    {
      "cell_type": "code",
      "source": [
        "print(myResultList)"
      ],
      "metadata": {
        "colab": {
          "base_uri": "https://localhost:8080/"
        },
        "id": "dTEu_U4V_AX2",
        "outputId": "17471fdd-18d0-4393-a4e3-95c0050b3dda"
      },
      "execution_count": 26,
      "outputs": [
        {
          "output_type": "stream",
          "name": "stdout",
          "text": [
            "[1.5]\n"
          ]
        }
      ]
    },
    {
      "cell_type": "code",
      "metadata": {
        "colab": {
          "base_uri": "https://localhost:8080/"
        },
        "id": "d206766c",
        "outputId": "50c9e496-fa9e-4e6a-daac-c54e837470dd"
      },
      "source": [
        "list(map(lambda element: element / 2, myList))"
      ],
      "execution_count": 28,
      "outputs": [
        {
          "output_type": "execute_result",
          "data": {
            "text/plain": [
              "[1.5, 2.5, 3.5, 5.0, 10.0, 15.0]"
            ]
          },
          "metadata": {},
          "execution_count": 28
        }
      ]
    },
    {
      "cell_type": "markdown",
      "source": [
        "LEGB -> L-> Local, E->Enclosing,G->Global,B->Built-in"
      ],
      "metadata": {
        "id": "Y_PIaEj8AuD1"
      }
    },
    {
      "cell_type": "code",
      "source": [
        "x =  20\n",
        "def multiply(num):\n",
        "  x = 5\n",
        "  return num * x"
      ],
      "metadata": {
        "id": "nUvdrRaJ_kcj"
      },
      "execution_count": 29,
      "outputs": []
    },
    {
      "cell_type": "code",
      "source": [
        "multiply(10)"
      ],
      "metadata": {
        "colab": {
          "base_uri": "https://localhost:8080/"
        },
        "id": "NZJLEj69A-6E",
        "outputId": "e5714294-cf71-40e0-ee6a-5985b50e0e96"
      },
      "execution_count": 30,
      "outputs": [
        {
          "output_type": "execute_result",
          "data": {
            "text/plain": [
              "50"
            ]
          },
          "metadata": {},
          "execution_count": 30
        }
      ]
    },
    {
      "cell_type": "code",
      "source": [
        "x"
      ],
      "metadata": {
        "colab": {
          "base_uri": "https://localhost:8080/"
        },
        "id": "htwRVOHMBAQ9",
        "outputId": "296af1ec-f3c4-49f8-ecd5-040ea6af0ad1"
      },
      "execution_count": 31,
      "outputs": [
        {
          "output_type": "execute_result",
          "data": {
            "text/plain": [
              "20"
            ]
          },
          "metadata": {},
          "execution_count": 31
        }
      ]
    },
    {
      "cell_type": "code",
      "source": [],
      "metadata": {
        "id": "s1-pJHH1BBp2"
      },
      "execution_count": null,
      "outputs": []
    }
  ]
}