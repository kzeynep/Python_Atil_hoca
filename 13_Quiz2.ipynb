{
  "cells": [
    {
      "cell_type": "markdown",
      "metadata": {
        "id": "view-in-github",
        "colab_type": "text"
      },
      "source": [
        "<a href=\"https://colab.research.google.com/github/kzeynep/Python_Atil_hoca/blob/main/13_Quiz2.ipynb\" target=\"_parent\"><img src=\"https://colab.research.google.com/assets/colab-badge.svg\" alt=\"Open In Colab\"/></a>"
      ]
    },
    {
      "cell_type": "code",
      "execution_count": 1,
      "metadata": {
        "id": "YmQf5gzNDLNq"
      },
      "outputs": [],
      "source": [
        "# 1) Aşağıdaki kodun çıktısı ne olacaktır?"
      ]
    },
    {
      "cell_type": "code",
      "execution_count": 2,
      "metadata": {
        "id": "mYVJfilUDLNv"
      },
      "outputs": [],
      "source": [
        "x = 5\n",
        "y = 3\n",
        "z = 6 #True"
      ]
    },
    {
      "cell_type": "markdown",
      "metadata": {
        "id": "y0yT9LzdDLNv"
      },
      "source": [
        "x > y and z > x"
      ]
    },
    {
      "cell_type": "code",
      "execution_count": 3,
      "metadata": {
        "colab": {
          "base_uri": "https://localhost:8080/"
        },
        "id": "EAcdfQh9DLNx",
        "outputId": "3c895039-0c2e-4d37-ab51-6311e3348c8a"
      },
      "outputs": [
        {
          "output_type": "execute_result",
          "data": {
            "text/plain": [
              "True"
            ]
          },
          "metadata": {},
          "execution_count": 3
        }
      ],
      "source": [
        "# cevap\n",
        "x > y and z > x # true\n"
      ]
    },
    {
      "cell_type": "code",
      "execution_count": 4,
      "metadata": {
        "id": "C_0xyIjYDLNx"
      },
      "outputs": [],
      "source": [
        "# 2) Aynı değerlerle kod şu şekilde değiştilirse çıktı ne olacaktır?"
      ]
    },
    {
      "cell_type": "markdown",
      "metadata": {
        "id": "NoJ0yBTsDLNy"
      },
      "source": [
        "x < y or z > y"
      ]
    },
    {
      "cell_type": "code",
      "execution_count": 5,
      "metadata": {
        "colab": {
          "base_uri": "https://localhost:8080/"
        },
        "id": "JniFyqWzDLNy",
        "outputId": "a5ff022d-dd4b-4f5e-d113-7617df459e12"
      },
      "outputs": [
        {
          "output_type": "execute_result",
          "data": {
            "text/plain": [
              "True"
            ]
          },
          "metadata": {},
          "execution_count": 5
        }
      ],
      "source": [
        "# cevap\n",
        "x < y or z > y # true"
      ]
    },
    {
      "cell_type": "code",
      "execution_count": 6,
      "metadata": {
        "id": "Z6icJmsnDLNz"
      },
      "outputs": [],
      "source": [
        "# 3) Aşağıdaki kodun çıktısı ne olacaktır?"
      ]
    },
    {
      "cell_type": "code",
      "execution_count": 7,
      "metadata": {
        "colab": {
          "base_uri": "https://localhost:8080/"
        },
        "id": "rYAC1lZRDLN0",
        "outputId": "12954a7a-d904-43b8-80ee-c10ff419cf4b"
      },
      "outputs": [
        {
          "output_type": "stream",
          "name": "stdout",
          "text": [
            "18 ile 30 yaş arasında bir gençsiniz\n"
          ]
        }
      ],
      "source": [
        "\n",
        "yas = 20\n",
        "\n",
        "if yas < 18:\n",
        "    print(\"18 yaşından küçüksünüz\")\n",
        "elif yas >= 18 and yas < 30:\n",
        "    print(\"18 ile 30 yaş arasında bir gençsiniz\")\n",
        "elif yas >= 30 and yas < 40:\n",
        "    print(\"30 ve 40 arasına gelmişsiniz\")\n",
        "else:\n",
        "    print(\"40 yaşından daha büyüksünüz\")\n",
        "\n",
        "# 18 ile 30  yaş arasında bir gençsiniz"
      ]
    },
    {
      "cell_type": "code",
      "execution_count": 8,
      "metadata": {
        "id": "fQkpVuc1DLN2"
      },
      "outputs": [],
      "source": [
        "# cevap"
      ]
    },
    {
      "cell_type": "code",
      "execution_count": 9,
      "metadata": {
        "id": "QglHSUlvDLN2"
      },
      "outputs": [],
      "source": [
        "#4) Aşağıdaki sözlükte, değerler içinde c harfinin geçip geçmediğini gösteren bir if koşulu yazınız"
      ]
    },
    {
      "cell_type": "code",
      "execution_count": 10,
      "metadata": {
        "id": "CKW8INl9DLN3"
      },
      "outputs": [],
      "source": [
        "my_dictionary = {\"k1\":10,\"k2k\":\"a\",\"k32\":30,\"k4\":\"c\"}"
      ]
    },
    {
      "cell_type": "code",
      "execution_count": 14,
      "metadata": {
        "colab": {
          "base_uri": "https://localhost:8080/"
        },
        "id": "iIE5oKbIDLN3",
        "outputId": "18708aae-2599-4023-f9bf-fca183168346"
      },
      "outputs": [
        {
          "output_type": "stream",
          "name": "stdout",
          "text": [
            "c harfi var\n"
          ]
        }
      ],
      "source": [
        "# cevap\n",
        "if \"c\" in my_dictionary.values():\n",
        "    print(\"c harfi var\")\n",
        "else:\n",
        "    print(\"c harfi yok\")"
      ]
    },
    {
      "cell_type": "code",
      "execution_count": 15,
      "metadata": {
        "id": "y4pqn6bFDLN3"
      },
      "outputs": [],
      "source": [
        "#5) Aşağıdaki sözlükte, anahtarlar içinde a harfinin geçip geçmediğini gösteren bir if koşulu yazınız"
      ]
    },
    {
      "cell_type": "code",
      "execution_count": 16,
      "metadata": {
        "id": "pukyedHYDLN3"
      },
      "outputs": [],
      "source": [
        "my_other_dictionary = {\"b\":203,\"c\":\"a\",\"a\":400,\"d\":\"f\"}"
      ]
    },
    {
      "cell_type": "code",
      "execution_count": 17,
      "metadata": {
        "colab": {
          "base_uri": "https://localhost:8080/"
        },
        "id": "RUWfYIgDDLN4",
        "outputId": "5927ac90-aa27-48d9-adee-f8b61581e017"
      },
      "outputs": [
        {
          "output_type": "stream",
          "name": "stdout",
          "text": [
            "a harfi var\n"
          ]
        }
      ],
      "source": [
        "# cevap\n",
        "if \"a\" in my_other_dictionary.keys():\n",
        "    print(\"a harfi var\")\n",
        "else:\n",
        "    print(\"a harfi yok\")"
      ]
    },
    {
      "cell_type": "code",
      "execution_count": 18,
      "metadata": {
        "id": "l3XQuTQ-DLN4"
      },
      "outputs": [],
      "source": [
        "#6) Aşağıdaki listedeki sayılardan sadece çift sayı olanları yazdıran bir kod yazınız."
      ]
    },
    {
      "cell_type": "code",
      "execution_count": 19,
      "metadata": {
        "id": "3bAHssSADLN4"
      },
      "outputs": [],
      "source": [
        "my_numbers = [1,2,3,4,5,6,19,20,32,21,20,1111,23,24]"
      ]
    },
    {
      "cell_type": "code",
      "execution_count": 20,
      "metadata": {
        "colab": {
          "base_uri": "https://localhost:8080/"
        },
        "id": "q6T74GAlDLN4",
        "outputId": "0345a62f-e5ef-4ba2-e2cb-9544aa95e284"
      },
      "outputs": [
        {
          "output_type": "stream",
          "name": "stdout",
          "text": [
            "2\n",
            "4\n",
            "6\n",
            "20\n",
            "32\n",
            "20\n",
            "24\n"
          ]
        }
      ],
      "source": [
        "# cevap\n",
        "for num in my_numbers :\n",
        "    if num % 2 == 0 :\n",
        "        print(num)"
      ]
    },
    {
      "cell_type": "code",
      "execution_count": 21,
      "metadata": {
        "id": "o2ZM1o3YDLN4"
      },
      "outputs": [],
      "source": [
        "#7) Aşağıdaki listedeki sayılar bir dairenin yarı çapını vermektedir."
      ]
    },
    {
      "cell_type": "code",
      "execution_count": 22,
      "metadata": {
        "id": "PENNAYjyDLN5"
      },
      "outputs": [],
      "source": [
        "#Tüm dairelerin çevresini içeren başka yeni bir liste oluşturunuz. (İpucu: 2 * pi * r)  Pi 3.14 alınabilir."
      ]
    },
    {
      "cell_type": "code",
      "execution_count": 27,
      "metadata": {
        "id": "z9nxXtjLDLN5"
      },
      "outputs": [],
      "source": [
        "r_list = [3,2,5,8,4,6,9,12]"
      ]
    },
    {
      "cell_type": "code",
      "execution_count": 26,
      "metadata": {
        "colab": {
          "base_uri": "https://localhost:8080/"
        },
        "id": "9H1n7AJMDLN5",
        "outputId": "e844ec9d-026f-48d2-93f9-f42d431a1f33"
      },
      "outputs": [
        {
          "output_type": "stream",
          "name": "stdout",
          "text": [
            "18.84\n",
            "12.56\n",
            "31.400000000000002\n",
            "50.24\n",
            "25.12\n",
            "37.68\n",
            "56.52\n",
            "75.36\n"
          ]
        }
      ],
      "source": [
        "# cevap\n",
        "r_list = [3,2,5,8,4,6,9,12]\n",
        "for r in r_list:\n",
        "  print(2*3.14*r)"
      ]
    },
    {
      "cell_type": "code",
      "execution_count": 28,
      "metadata": {
        "id": "lnNGZrxqDLN5"
      },
      "outputs": [],
      "source": [
        "#8) Aşağıdaki listede isim - yaş eşleşmelerinin bulunduğu yapılar mevcuttur."
      ]
    },
    {
      "cell_type": "code",
      "execution_count": 29,
      "metadata": {
        "id": "iUCeBMB4DLN5"
      },
      "outputs": [],
      "source": [
        "# Sadece yaşların olduğu yeni ve ayrı bir liste oluşturunuz."
      ]
    },
    {
      "cell_type": "code",
      "execution_count": 30,
      "metadata": {
        "id": "h2eerULvDLN6"
      },
      "outputs": [],
      "source": [
        "age_name_list = [(\"Ahmet\",30),(\"Ayse\",24),(\"Mehmet\",40),(\"Fatma\",29)]"
      ]
    },
    {
      "cell_type": "code",
      "execution_count": 34,
      "metadata": {
        "colab": {
          "base_uri": "https://localhost:8080/"
        },
        "id": "XNoasKpeDLN6",
        "outputId": "7d3a815e-b22c-4217-d343-871cbdc76c21"
      },
      "outputs": [
        {
          "output_type": "stream",
          "name": "stdout",
          "text": [
            "30\n",
            "24\n",
            "40\n",
            "29\n"
          ]
        }
      ],
      "source": [
        "# cevap\n",
        "for name,age in age_name_list:\n",
        "    print(age)"
      ]
    },
    {
      "cell_type": "code",
      "execution_count": 35,
      "metadata": {
        "id": "8GeSXG-sDLN6"
      },
      "outputs": [],
      "source": [
        "#9) Aşağıdaki müzik gruplarından birini rastgele yazdıran bir kod yazınız"
      ]
    },
    {
      "cell_type": "code",
      "execution_count": 36,
      "metadata": {
        "id": "ZNOLoDmoDLN6"
      },
      "outputs": [],
      "source": [
        "metal_list = [\"Metallica\",\"Iron Maiden\",\"Dream Theater\",\"Megadeth\",\"AC/DC\"]"
      ]
    },
    {
      "cell_type": "code",
      "execution_count": 37,
      "metadata": {
        "colab": {
          "base_uri": "https://localhost:8080/"
        },
        "id": "EtqmqPmVDLN6",
        "outputId": "c705ee81-fbdd-431b-80e6-9359d75f4ed4"
      },
      "outputs": [
        {
          "output_type": "stream",
          "name": "stdout",
          "text": [
            "Metallica\n",
            "Iron Maiden\n",
            "Dream Theater\n",
            "Megadeth\n",
            "AC/DC\n"
          ]
        }
      ],
      "source": [
        "# cevap\n",
        "for metal in metal_list:\n",
        "    print(metal)"
      ]
    },
    {
      "cell_type": "code",
      "execution_count": 39,
      "metadata": {
        "colab": {
          "base_uri": "https://localhost:8080/",
          "height": 36
        },
        "id": "b7pODOSMDLN7",
        "outputId": "1e99e37c-7912-4225-b760-41fc3f07d3c2"
      },
      "outputs": [
        {
          "output_type": "execute_result",
          "data": {
            "text/plain": [
              "'Dream Theater'"
            ],
            "application/vnd.google.colaboratory.intrinsic+json": {
              "type": "string"
            }
          },
          "metadata": {},
          "execution_count": 39
        }
      ],
      "source": [
        "# cevap\n",
        "import random\n",
        "random.choice(metal_list)"
      ]
    },
    {
      "cell_type": "code",
      "execution_count": 40,
      "metadata": {
        "id": "C327xUaXDLN-"
      },
      "outputs": [],
      "source": [
        "#10) Aşağıdaki kodun çıktısı ne olacaktır?"
      ]
    },
    {
      "cell_type": "code",
      "execution_count": 41,
      "metadata": {
        "id": "buMCuEUSDLN_"
      },
      "outputs": [],
      "source": [
        "number_list = [5,7,18,21,20,10,405,24]"
      ]
    },
    {
      "cell_type": "markdown",
      "metadata": {
        "id": "DsyI5tQtDLN_"
      },
      "source": [
        "[num % 2 == 0 for num in number_list]"
      ]
    },
    {
      "cell_type": "code",
      "execution_count": 42,
      "metadata": {
        "colab": {
          "base_uri": "https://localhost:8080/"
        },
        "id": "e2Knm3j1DLN_",
        "outputId": "cbfe8d73-e12e-4c84-f3f3-1d709c79f8b7"
      },
      "outputs": [
        {
          "output_type": "execute_result",
          "data": {
            "text/plain": [
              "[False, False, True, False, True, True, False, True]"
            ]
          },
          "metadata": {},
          "execution_count": 42
        }
      ],
      "source": [
        "# cevap\n",
        "[num % 2 == 0 for num in number_list]"
      ]
    },
    {
      "cell_type": "code",
      "execution_count": null,
      "metadata": {
        "id": "UItTSUGcDLN_"
      },
      "outputs": [],
      "source": []
    }
  ],
  "metadata": {
    "kernelspec": {
      "display_name": "Python 3",
      "language": "python",
      "name": "python3"
    },
    "language_info": {
      "codemirror_mode": {
        "name": "ipython",
        "version": 3
      },
      "file_extension": ".py",
      "mimetype": "text/x-python",
      "name": "python",
      "nbconvert_exporter": "python",
      "pygments_lexer": "ipython3",
      "version": "3.8.5"
    },
    "colab": {
      "provenance": [],
      "include_colab_link": true
    }
  },
  "nbformat": 4,
  "nbformat_minor": 0
}