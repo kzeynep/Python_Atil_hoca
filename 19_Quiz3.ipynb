{
  "cells": [
    {
      "cell_type": "markdown",
      "metadata": {
        "id": "view-in-github",
        "colab_type": "text"
      },
      "source": [
        "<a href=\"https://colab.research.google.com/github/kzeynep/Python_Atil_hoca/blob/main/19_Quiz3.ipynb\" target=\"_parent\"><img src=\"https://colab.research.google.com/assets/colab-badge.svg\" alt=\"Open In Colab\"/></a>"
      ]
    },
    {
      "cell_type": "code",
      "execution_count": 1,
      "metadata": {
        "id": "pzXtrxpN9ooi"
      },
      "outputs": [],
      "source": [
        "#1) Aşağıdaki kodun çıktısı ne olacaktır?"
      ]
    },
    {
      "cell_type": "code",
      "execution_count": 4,
      "metadata": {
        "id": "g3WZMymO9ool"
      },
      "outputs": [],
      "source": [
        "def toplama(a,b):\n",
        "    print(a,b)"
      ]
    },
    {
      "cell_type": "code",
      "execution_count": 5,
      "metadata": {
        "colab": {
          "base_uri": "https://localhost:8080/"
        },
        "id": "nX69dLqQ9ool",
        "outputId": "4630b9a8-aa0a-46f0-a896-27c8e4697f31"
      },
      "outputs": [
        {
          "output_type": "stream",
          "name": "stdout",
          "text": [
            "3 4\n",
            "None\n"
          ]
        }
      ],
      "source": [
        "\n",
        "x = toplama(3,4)\n",
        "print(x)\n"
      ]
    },
    {
      "cell_type": "code",
      "execution_count": 31,
      "metadata": {
        "id": "XuPbR_Zo9oom"
      },
      "outputs": [],
      "source": [
        "# cevap yanlış toplama yok return yok"
      ]
    },
    {
      "cell_type": "code",
      "execution_count": 7,
      "metadata": {
        "id": "PNUVGIvc9oon"
      },
      "outputs": [],
      "source": [
        "#2) Aşağıdaki kodun çıktısı ne olacaktır?"
      ]
    },
    {
      "cell_type": "code",
      "execution_count": 10,
      "metadata": {
        "id": "CsPf8Hwh9oon"
      },
      "outputs": [],
      "source": [
        "def usselIslem(x=5,y=3):\n",
        "    print(x ** y)"
      ]
    },
    {
      "cell_type": "markdown",
      "metadata": {
        "id": "WnU01xYk9ooo"
      },
      "source": [
        "usselIslem(2,4)"
      ]
    },
    {
      "cell_type": "code",
      "execution_count": 11,
      "metadata": {
        "colab": {
          "base_uri": "https://localhost:8080/"
        },
        "id": "_GM8DSCH9ooq",
        "outputId": "9ef34b03-1c90-4c7c-c72b-54cf2bd1bade"
      },
      "outputs": [
        {
          "output_type": "stream",
          "name": "stdout",
          "text": [
            "16\n"
          ]
        }
      ],
      "source": [
        "# cevap\n",
        "usselIslem(2,4)"
      ]
    },
    {
      "cell_type": "code",
      "execution_count": 12,
      "metadata": {
        "id": "Oz3N9cmc9ooq"
      },
      "outputs": [],
      "source": [
        "#3) Aynı fonksiyonu aşağıdaki gibi çağırırsak çıktı ne olur?"
      ]
    },
    {
      "cell_type": "markdown",
      "metadata": {
        "id": "IVu5ijZu9ooq"
      },
      "source": [
        "usselIslem()"
      ]
    },
    {
      "cell_type": "code",
      "execution_count": 32,
      "metadata": {
        "colab": {
          "base_uri": "https://localhost:8080/"
        },
        "id": "TxCX20Nl9oor",
        "outputId": "4f46c596-8780-42bf-b02a-574a2f839a6f"
      },
      "outputs": [
        {
          "output_type": "stream",
          "name": "stdout",
          "text": [
            "125\n"
          ]
        }
      ],
      "source": [
        "# cevap\n",
        "usselIslem()"
      ]
    },
    {
      "cell_type": "code",
      "execution_count": 14,
      "metadata": {
        "id": "abwydcvJ9oor"
      },
      "outputs": [],
      "source": [
        "#4) Aşağıdaki kodun çıktısı ne olacaktır?"
      ]
    },
    {
      "cell_type": "code",
      "execution_count": 33,
      "metadata": {
        "id": "k3f2d_wN9oor"
      },
      "outputs": [],
      "source": [
        "def myLoop(*args):\n",
        "    for element in args:\n",
        "        print(element / 2)"
      ]
    },
    {
      "cell_type": "code",
      "source": [
        "myLoop(3,2,1,5,3,4)"
      ],
      "metadata": {
        "colab": {
          "base_uri": "https://localhost:8080/"
        },
        "id": "yE4KSkZaBULG",
        "outputId": "5f6b8336-7a86-499c-bb42-348560644262"
      },
      "execution_count": 34,
      "outputs": [
        {
          "output_type": "stream",
          "name": "stdout",
          "text": [
            "1.5\n",
            "1.0\n",
            "0.5\n",
            "2.5\n",
            "1.5\n",
            "2.0\n"
          ]
        }
      ]
    },
    {
      "cell_type": "markdown",
      "metadata": {
        "id": "pz38flgT9oor"
      },
      "source": [
        "myLoop(3,2,1,5,3,4)"
      ]
    },
    {
      "cell_type": "code",
      "execution_count": 25,
      "metadata": {
        "id": "qLo9SVQW9oos"
      },
      "outputs": [],
      "source": [
        "#5) Aşağıdaki dizide belirtilen rakamları, myFunction fonksiyonuna tabi tutup, yeni bir dizi oluşturunuz"
      ]
    },
    {
      "cell_type": "code",
      "execution_count": 26,
      "metadata": {
        "id": "bjT2qFcG9oos"
      },
      "outputs": [],
      "source": [
        "def myFunc(num):\n",
        "    return num ** 3"
      ]
    },
    {
      "cell_type": "code",
      "execution_count": 27,
      "metadata": {
        "colab": {
          "base_uri": "https://localhost:8080/"
        },
        "id": "QHGVpwPw9oos",
        "outputId": "b412bd10-699a-4ab0-a16c-bc7a8eb3bc73"
      },
      "outputs": [
        {
          "output_type": "stream",
          "name": "stdout",
          "text": [
            "8\n",
            "27\n",
            "64\n",
            "125\n",
            "216\n"
          ]
        }
      ],
      "source": [
        "myList = [2,3,4,5,6]\n",
        "for i in myList:\n",
        "    print(myFunc(i))"
      ]
    },
    {
      "cell_type": "code",
      "execution_count": 35,
      "metadata": {
        "colab": {
          "base_uri": "https://localhost:8080/"
        },
        "id": "atNAB5jL9oos",
        "outputId": "be23a4ab-e99b-4abc-b77e-41a367b6ffe1"
      },
      "outputs": [
        {
          "output_type": "execute_result",
          "data": {
            "text/plain": [
              "[8, 27, 64, 125, 216]"
            ]
          },
          "metadata": {},
          "execution_count": 35
        }
      ],
      "source": [
        "# cevap\n",
        "list(map(myFunc,myList))"
      ]
    },
    {
      "cell_type": "code",
      "execution_count": null,
      "metadata": {
        "id": "Q-5kTrTT9oos"
      },
      "outputs": [],
      "source": [
        "# cevap"
      ]
    },
    {
      "cell_type": "code",
      "execution_count": 30,
      "metadata": {
        "id": "3M3rCbWS9oos"
      },
      "outputs": [],
      "source": [
        "#6) Aşağıdaki string dizisinde, içinde sadece XYZ geçen barkodları gösterecek yeni bir liste oluşturunuz"
      ]
    },
    {
      "cell_type": "code",
      "execution_count": 36,
      "metadata": {
        "id": "ZWEbOluA9oos"
      },
      "outputs": [],
      "source": [
        "barkodDizisi = [\"ABC231\",\"SA3123XYZ\",\"XYZA123Q\",\"QRE1231KJ\",\"X112QGL\"]"
      ]
    },
    {
      "cell_type": "code",
      "execution_count": 37,
      "metadata": {
        "colab": {
          "base_uri": "https://localhost:8080/"
        },
        "id": "zLuVJDya9oot",
        "outputId": "7a32c6a0-7e89-4b00-c89e-9c618de9bd6f"
      },
      "outputs": [
        {
          "output_type": "execute_result",
          "data": {
            "text/plain": [
              "['SA3123XYZ', 'XYZA123Q']"
            ]
          },
          "metadata": {},
          "execution_count": 37
        }
      ],
      "source": [
        "# cevap\n",
        "list(filter(lambda x: \"XYZ\" in x,barkodDizisi))"
      ]
    },
    {
      "cell_type": "code",
      "execution_count": null,
      "metadata": {
        "id": "IlzceZbG9oot"
      },
      "outputs": [],
      "source": [
        "# cevap"
      ]
    },
    {
      "cell_type": "code",
      "execution_count": null,
      "metadata": {
        "id": "O997AmgK9oot"
      },
      "outputs": [],
      "source": [
        "#7) Aşağıdaki kodu okursanız, ornekFonksiyon çalıştırıldığında en altta yazdırılan print size neyi yazdıracaktır?"
      ]
    },
    {
      "cell_type": "code",
      "execution_count": 38,
      "metadata": {
        "id": "sxHlxK5e9oot"
      },
      "outputs": [],
      "source": [
        "myVar = \"Atil Samancioglu\"\n",
        "\n",
        "def ornekFonksiyon():\n",
        "    myVar = \"Atil\"\n",
        "\n",
        "    def digerFonksiyon():\n",
        "        print(myVar)\n",
        "\n",
        "    digerFonksiyon()"
      ]
    },
    {
      "cell_type": "code",
      "execution_count": 40,
      "metadata": {
        "colab": {
          "base_uri": "https://localhost:8080/"
        },
        "id": "Xq1qsbOp9oot",
        "outputId": "b41dbecc-e32a-4fe3-df84-18d9ea3a3f0c"
      },
      "outputs": [
        {
          "output_type": "stream",
          "name": "stdout",
          "text": [
            "Atil\n"
          ]
        }
      ],
      "source": [
        "ornekFonksiyon() #Atil"
      ]
    },
    {
      "cell_type": "code",
      "execution_count": null,
      "metadata": {
        "id": "ByY5SrKk9oot"
      },
      "outputs": [],
      "source": [
        "#8) Aşağıda yazdırılan sınıfı incelediğinizde kedim.yasiCarp() kodunun çıktısı ne olacaktır?"
      ]
    },
    {
      "cell_type": "code",
      "execution_count": 41,
      "metadata": {
        "id": "5q19hMoa9oou"
      },
      "outputs": [],
      "source": [
        "class Kedi():\n",
        "\n",
        "    def __init__(self,isim,yas=5):\n",
        "        self.isim = isim\n",
        "        self.yas = yas\n",
        "\n",
        "    def yasiCarp(self):\n",
        "        return self.yas * 3"
      ]
    },
    {
      "cell_type": "code",
      "execution_count": 42,
      "metadata": {
        "id": "V8m3Fi-I9oou"
      },
      "outputs": [],
      "source": [
        "kedim = Kedi(\"Tonton\")"
      ]
    },
    {
      "cell_type": "code",
      "execution_count": 43,
      "metadata": {
        "colab": {
          "base_uri": "https://localhost:8080/"
        },
        "id": "l3F5Io4U9oou",
        "outputId": "d9dda80f-ebcc-4748-ce48-52d83fbdaee8"
      },
      "outputs": [
        {
          "output_type": "execute_result",
          "data": {
            "text/plain": [
              "15"
            ]
          },
          "metadata": {},
          "execution_count": 43
        }
      ],
      "source": [
        "kedim.yasiCarp()"
      ]
    },
    {
      "cell_type": "code",
      "execution_count": 44,
      "metadata": {
        "id": "n0EUSt_R9oou"
      },
      "outputs": [],
      "source": [
        "#9) Aşağıdaki kodun çıktısı ne olacaktır?"
      ]
    },
    {
      "cell_type": "code",
      "execution_count": 46,
      "metadata": {
        "id": "ApkRFCA79oov"
      },
      "outputs": [],
      "source": [
        "class Ogrenci():\n",
        "\n",
        "    def __init__(self,isim,sinavNotu):\n",
        "        self.isim = isim\n",
        "        self.__sinavNotu = sinavNotu\n",
        "\n",
        "    def notuGoster(self):\n",
        "        print(f\"{self.isim} sınav notu: {self.__sinavNotu}\")"
      ]
    },
    {
      "cell_type": "code",
      "execution_count": 47,
      "metadata": {
        "id": "6ELsvW5f9oov"
      },
      "outputs": [],
      "source": [
        "ogrenci = Ogrenci(\"Mehmet\",85)"
      ]
    },
    {
      "cell_type": "code",
      "execution_count": 49,
      "metadata": {
        "id": "bU0184W99oov"
      },
      "outputs": [],
      "source": [
        "ogrenci.__sinavNotu = 75"
      ]
    },
    {
      "cell_type": "code",
      "execution_count": 52,
      "metadata": {
        "colab": {
          "base_uri": "https://localhost:8080/"
        },
        "id": "OyoFC5EE9oov",
        "outputId": "827f4319-20fc-4bde-ff30-601a97796f19"
      },
      "outputs": [
        {
          "output_type": "stream",
          "name": "stdout",
          "text": [
            "Mehmet sınav notu: 85\n"
          ]
        }
      ],
      "source": [
        "ogrenci.notuGoster() #Mehmet , 85 çünkü değiştirelemez bunun için ayrı komut kullandık"
      ]
    },
    {
      "cell_type": "code",
      "execution_count": 53,
      "metadata": {
        "id": "Vqmkp6Su9ooz"
      },
      "outputs": [],
      "source": [
        "#10) Soyut sınıflar ve methodlar oluşturmamıza olanak tanıyan, kodlarımızı daha planlı şekilde yazmamızı mümkün kılan"
      ]
    },
    {
      "cell_type": "code",
      "execution_count": 54,
      "metadata": {
        "id": "ADe5Ors59ooz"
      },
      "outputs": [],
      "source": [
        "# aynı zamanda büyük projelerde bize yapısal olarak fayda sağlayabilecek OOP prensibinin adı nedir?"
      ]
    },
    {
      "cell_type": "code",
      "execution_count": 55,
      "metadata": {
        "id": "RKjicxur9ooz"
      },
      "outputs": [],
      "source": [
        "# cevap abstraction soyutlama"
      ]
    },
    {
      "cell_type": "code",
      "execution_count": null,
      "metadata": {
        "id": "9538BOB69oo0"
      },
      "outputs": [],
      "source": []
    }
  ],
  "metadata": {
    "kernelspec": {
      "display_name": "Python 3",
      "language": "python",
      "name": "python3"
    },
    "language_info": {
      "codemirror_mode": {
        "name": "ipython",
        "version": 3
      },
      "file_extension": ".py",
      "mimetype": "text/x-python",
      "name": "python",
      "nbconvert_exporter": "python",
      "pygments_lexer": "ipython3",
      "version": "3.8.5"
    },
    "colab": {
      "provenance": [],
      "include_colab_link": true
    }
  },
  "nbformat": 4,
  "nbformat_minor": 0
}