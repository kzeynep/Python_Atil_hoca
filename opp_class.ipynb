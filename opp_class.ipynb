{
  "nbformat": 4,
  "nbformat_minor": 0,
  "metadata": {
    "colab": {
      "provenance": [],
      "authorship_tag": "ABX9TyOwULeTVhretEbahxokKX65",
      "include_colab_link": true
    },
    "kernelspec": {
      "name": "python3",
      "display_name": "Python 3"
    },
    "language_info": {
      "name": "python"
    }
  },
  "cells": [
    {
      "cell_type": "markdown",
      "metadata": {
        "id": "view-in-github",
        "colab_type": "text"
      },
      "source": [
        "<a href=\"https://colab.research.google.com/github/kzeynep/Python_Atil_hoca/blob/main/opp_class.ipynb\" target=\"_parent\"><img src=\"https://colab.research.google.com/assets/colab-badge.svg\" alt=\"Open In Colab\"/></a>"
      ]
    },
    {
      "cell_type": "code",
      "source": [
        "class Person():\n",
        "    #property\n",
        "    #name = \"\"\n",
        "    #age = 0\n",
        "    #gender =\"\"\n",
        "    job = \"\"\n",
        "\n",
        "    #initializer method\n",
        "    def __init__(self,name,age,gender):\n",
        "      self.name = name\n",
        "      self.age = age\n",
        "      self.gender = gender\n",
        "\n",
        "    #method\n",
        "    def printName(self):\n",
        "      print(self.name)"
      ],
      "metadata": {
        "id": "kqqf-4rvbIps"
      },
      "execution_count": 4,
      "outputs": []
    },
    {
      "cell_type": "code",
      "source": [
        "zeynep = Person(\"zeynep\",22,\"female\")"
      ],
      "metadata": {
        "id": "USzza5p7dlnk"
      },
      "execution_count": 5,
      "outputs": []
    },
    {
      "cell_type": "code",
      "source": [
        "type(zeynep)"
      ],
      "metadata": {
        "colab": {
          "base_uri": "https://localhost:8080/",
          "height": 103
        },
        "id": "U07BL-pVdr4W",
        "outputId": "663d33e0-b086-4c2b-f654-4b47983e1363"
      },
      "execution_count": 6,
      "outputs": [
        {
          "output_type": "execute_result",
          "data": {
            "text/plain": [
              "__main__.Person"
            ],
            "text/html": [
              "<div style=\"max-width:800px; border: 1px solid var(--colab-border-color);\"><style>\n",
              "      pre.function-repr-contents {\n",
              "        overflow-x: auto;\n",
              "        padding: 8px 12px;\n",
              "        max-height: 500px;\n",
              "      }\n",
              "\n",
              "      pre.function-repr-contents.function-repr-contents-collapsed {\n",
              "        cursor: pointer;\n",
              "        max-height: 100px;\n",
              "      }\n",
              "    </style>\n",
              "    <pre style=\"white-space: initial; background:\n",
              "         var(--colab-secondary-surface-color); padding: 8px 12px;\n",
              "         border-bottom: 1px solid var(--colab-border-color);\"><b>Person</b><br/>def __init__(name, age, gender)</pre><pre class=\"function-repr-contents function-repr-contents-collapsed\" style=\"\"><a class=\"filepath\" style=\"display:none\" href=\"#\"></a>&lt;no docstring&gt;</pre></div>"
            ]
          },
          "metadata": {},
          "execution_count": 6
        }
      ]
    },
    {
      "cell_type": "code",
      "source": [
        "zeynep.printName()"
      ],
      "metadata": {
        "colab": {
          "base_uri": "https://localhost:8080/"
        },
        "id": "EZQg_d4Qd33d",
        "outputId": "e1dbcac2-fc18-4245-cadb-75ae74efde83"
      },
      "execution_count": 8,
      "outputs": [
        {
          "output_type": "stream",
          "name": "stdout",
          "text": [
            "zeynep\n"
          ]
        }
      ]
    },
    {
      "cell_type": "code",
      "source": [
        "class Dog():\n",
        "\n",
        "  year = 7\n",
        "\n",
        "  def __init__(self,age):\n",
        "    self.age = age\n",
        "\n",
        "  def humanAge(self):\n",
        "    return self.age*self.year # self.year->Dog.year"
      ],
      "metadata": {
        "id": "ctlGSqfHd9ev"
      },
      "execution_count": 14,
      "outputs": []
    },
    {
      "cell_type": "code",
      "source": [
        "myDog = Dog(3)"
      ],
      "metadata": {
        "id": "8F3UilZCedL-"
      },
      "execution_count": 10,
      "outputs": []
    },
    {
      "cell_type": "code",
      "source": [
        "myDog.age"
      ],
      "metadata": {
        "colab": {
          "base_uri": "https://localhost:8080/"
        },
        "id": "7voQe4FtegPG",
        "outputId": "0db2f177-66a7-49b0-e609-243550654067"
      },
      "execution_count": 11,
      "outputs": [
        {
          "output_type": "execute_result",
          "data": {
            "text/plain": [
              "3"
            ]
          },
          "metadata": {},
          "execution_count": 11
        }
      ]
    },
    {
      "cell_type": "code",
      "source": [
        "myDog.humanAge()"
      ],
      "metadata": {
        "colab": {
          "base_uri": "https://localhost:8080/"
        },
        "id": "cmRu-_eheiy6",
        "outputId": "98e06ec3-66ce-4bd0-9fef-75a040f4d1ce"
      },
      "execution_count": 13,
      "outputs": [
        {
          "output_type": "execute_result",
          "data": {
            "text/plain": [
              "21"
            ]
          },
          "metadata": {},
          "execution_count": 13
        }
      ]
    },
    {
      "cell_type": "markdown",
      "source": [
        "Inheritance >> Kalıtım"
      ],
      "metadata": {
        "id": "lonfM0qof6mg"
      }
    },
    {
      "cell_type": "code",
      "source": [
        "class Musician ():\n",
        "  def __init__(self,name):\n",
        "    self.name = name\n",
        "    print(\"musician class\")\n",
        "\n",
        "  def test1(self):\n",
        "    print(\"test1\")\n",
        "\n",
        "  def test2(self):\n",
        "    print(\"test2\")"
      ],
      "metadata": {
        "id": "kfYMwIghelpY"
      },
      "execution_count": 27,
      "outputs": []
    },
    {
      "cell_type": "code",
      "source": [
        "zeynep = Musician(\"zeynep\")"
      ],
      "metadata": {
        "colab": {
          "base_uri": "https://localhost:8080/"
        },
        "id": "5i8T5dWdgZg1",
        "outputId": "170cab36-7f95-4c53-ab9a-c310b948a241"
      },
      "execution_count": 28,
      "outputs": [
        {
          "output_type": "stream",
          "name": "stdout",
          "text": [
            "musician class\n"
          ]
        }
      ]
    },
    {
      "cell_type": "code",
      "source": [
        "zeynep.name"
      ],
      "metadata": {
        "colab": {
          "base_uri": "https://localhost:8080/",
          "height": 36
        },
        "id": "1gm0Q8qVgb4s",
        "outputId": "8db55a1f-c3f3-42c9-eab4-9d0484bedb88"
      },
      "execution_count": 29,
      "outputs": [
        {
          "output_type": "execute_result",
          "data": {
            "text/plain": [
              "'zeynep'"
            ],
            "application/vnd.google.colaboratory.intrinsic+json": {
              "type": "string"
            }
          },
          "metadata": {},
          "execution_count": 29
        }
      ]
    },
    {
      "cell_type": "code",
      "source": [
        "zeynep.test1()"
      ],
      "metadata": {
        "colab": {
          "base_uri": "https://localhost:8080/"
        },
        "id": "7ggEVUGwgdI2",
        "outputId": "2ce17d3a-cce6-4c26-f25a-24d148fd2811"
      },
      "execution_count": 30,
      "outputs": [
        {
          "output_type": "stream",
          "name": "stdout",
          "text": [
            "test1\n"
          ]
        }
      ]
    },
    {
      "cell_type": "code",
      "source": [
        "class MusicianPlus(Musician):\n",
        "  def __init__(self,name):\n",
        "    Musician.__init__(self,name)\n",
        "    print(\"musician plus\")\n",
        "\n",
        "  def test3(self):\n",
        "    print(\"test3\")\n",
        "\n",
        "  def test1(self):\n",
        "    print(\"test1 test1 test1 \")"
      ],
      "metadata": {
        "id": "l_RoihHggew7"
      },
      "execution_count": 31,
      "outputs": []
    },
    {
      "cell_type": "code",
      "source": [
        "atlas = MusicianPlus(\"atlas\")"
      ],
      "metadata": {
        "colab": {
          "base_uri": "https://localhost:8080/"
        },
        "id": "Ma9oIyAwhB0F",
        "outputId": "6ed1ef4b-c758-46a9-f06c-219bd0ebc7cb"
      },
      "execution_count": 32,
      "outputs": [
        {
          "output_type": "stream",
          "name": "stdout",
          "text": [
            "musician class\n",
            "musician plus\n"
          ]
        }
      ]
    },
    {
      "cell_type": "code",
      "source": [
        "atlas.test2()"
      ],
      "metadata": {
        "colab": {
          "base_uri": "https://localhost:8080/"
        },
        "id": "I0S2jlZwhDiR",
        "outputId": "05f1f3cc-ba17-4941-d8c4-381d61807ca8"
      },
      "execution_count": 33,
      "outputs": [
        {
          "output_type": "stream",
          "name": "stdout",
          "text": [
            "test2\n"
          ]
        }
      ]
    },
    {
      "cell_type": "code",
      "source": [
        "atlas.test1()"
      ],
      "metadata": {
        "colab": {
          "base_uri": "https://localhost:8080/"
        },
        "id": "SA-0xkFXhGVk",
        "outputId": "0524ce1b-c85d-4d0b-fe35-3e58d23ecc6b"
      },
      "execution_count": 34,
      "outputs": [
        {
          "output_type": "stream",
          "name": "stdout",
          "text": [
            "test1 test1 test1 \n"
          ]
        }
      ]
    },
    {
      "cell_type": "markdown",
      "source": [
        "Polymorpsim >> aynı isimle farklı işlmler yapmak\n"
      ],
      "metadata": {
        "id": "tdalCT9potoD"
      }
    },
    {
      "cell_type": "code",
      "source": [
        "class Banana ():\n",
        "\n",
        "  def __init__(self,name):\n",
        "    self.name = name\n",
        "\n",
        "  def info(self):\n",
        "    return f\"100 calories {self.name}\"\n",
        "\n",
        "class Apple():\n",
        "\n",
        "  def __init__(self,name):\n",
        "    self.name = name\n",
        "\n",
        "  def info(self):\n",
        "    return f\"150 calories {self.name}\""
      ],
      "metadata": {
        "id": "83QaSgoyhblD"
      },
      "execution_count": 35,
      "outputs": []
    },
    {
      "cell_type": "code",
      "source": [
        "banana = Banana(\"banana\")"
      ],
      "metadata": {
        "id": "1fWSI5jIpcUe"
      },
      "execution_count": 36,
      "outputs": []
    },
    {
      "cell_type": "code",
      "source": [
        "apple = Apple(\"apple\")"
      ],
      "metadata": {
        "id": "k9JZGwHTpd7e"
      },
      "execution_count": 37,
      "outputs": []
    },
    {
      "cell_type": "code",
      "source": [
        "banana.info()"
      ],
      "metadata": {
        "colab": {
          "base_uri": "https://localhost:8080/",
          "height": 36
        },
        "id": "TqQcA4lRphdL",
        "outputId": "f4c926f2-c1c3-4d9d-c704-eb17c918e88d"
      },
      "execution_count": 38,
      "outputs": [
        {
          "output_type": "execute_result",
          "data": {
            "text/plain": [
              "'100 calories banana'"
            ],
            "application/vnd.google.colaboratory.intrinsic+json": {
              "type": "string"
            }
          },
          "metadata": {},
          "execution_count": 38
        }
      ]
    },
    {
      "cell_type": "code",
      "source": [
        "apple.info()"
      ],
      "metadata": {
        "colab": {
          "base_uri": "https://localhost:8080/",
          "height": 36
        },
        "id": "7TALjXLEps8w",
        "outputId": "2fa6657c-6619-4706-cdec-4166c1be1017"
      },
      "execution_count": 39,
      "outputs": [
        {
          "output_type": "execute_result",
          "data": {
            "text/plain": [
              "'150 calories apple'"
            ],
            "application/vnd.google.colaboratory.intrinsic+json": {
              "type": "string"
            }
          },
          "metadata": {},
          "execution_count": 39
        }
      ]
    },
    {
      "cell_type": "code",
      "source": [
        "fuitList = [banana,apple]"
      ],
      "metadata": {
        "id": "600D1ysZpkQe"
      },
      "execution_count": 40,
      "outputs": []
    },
    {
      "cell_type": "code",
      "source": [
        "for fruit in fuitList:\n",
        "  print(fruit.info())"
      ],
      "metadata": {
        "colab": {
          "base_uri": "https://localhost:8080/"
        },
        "id": "KLl7PonXpxck",
        "outputId": "b7252eec-fd40-41e2-b826-9d691dc7f111"
      },
      "execution_count": 41,
      "outputs": [
        {
          "output_type": "stream",
          "name": "stdout",
          "text": [
            "100 calories banana\n",
            "150 calories apple\n"
          ]
        }
      ]
    },
    {
      "cell_type": "markdown",
      "source": [
        "Encapsulaiton >> hapsetmek >> görüntüleme >> erişmek gibi"
      ],
      "metadata": {
        "id": "w16WyEkHp_Vl"
      }
    },
    {
      "cell_type": "code",
      "source": [
        "class Phone ():\n",
        "  def __init__(self,name,price):\n",
        "    self.name = name\n",
        "    self.__price = price # değiştirilme özelliğine buradan erişebilirim\n",
        "\n",
        "  def info(self):\n",
        "    print(f\"{self.name} price is {self.__price}\")\n",
        "\n",
        "  def changePrice(self,price):\n",
        "    self.__price = price\n"
      ],
      "metadata": {
        "id": "krtKMp7Hp0II"
      },
      "execution_count": 60,
      "outputs": []
    },
    {
      "cell_type": "code",
      "source": [
        "iphone = Phone (\"iPhone 13 \",500)"
      ],
      "metadata": {
        "id": "Xc_QYt6Dqk9h"
      },
      "execution_count": 61,
      "outputs": []
    },
    {
      "cell_type": "code",
      "source": [
        "iphone.info()"
      ],
      "metadata": {
        "colab": {
          "base_uri": "https://localhost:8080/"
        },
        "id": "FUcFhja-q3r9",
        "outputId": "d0eece5d-5351-47b4-e0e6-476bb0434c83"
      },
      "execution_count": 62,
      "outputs": [
        {
          "output_type": "stream",
          "name": "stdout",
          "text": [
            "iPhone 13  price is 500\n"
          ]
        }
      ]
    },
    {
      "cell_type": "code",
      "source": [
        "iphone.price = 400"
      ],
      "metadata": {
        "id": "6M1lNd9Vq7zp"
      },
      "execution_count": 63,
      "outputs": []
    },
    {
      "cell_type": "code",
      "source": [
        "iphone.info()"
      ],
      "metadata": {
        "colab": {
          "base_uri": "https://localhost:8080/"
        },
        "id": "lwVPpYneq_OT",
        "outputId": "e12b39da-57bb-4c9e-e69a-5a91fe62a76f"
      },
      "execution_count": 64,
      "outputs": [
        {
          "output_type": "stream",
          "name": "stdout",
          "text": [
            "iPhone 13  price is 500\n"
          ]
        }
      ]
    },
    {
      "cell_type": "code",
      "source": [
        "iphone.__price = 600"
      ],
      "metadata": {
        "id": "1MFQMeelrBVq"
      },
      "execution_count": 65,
      "outputs": []
    },
    {
      "cell_type": "code",
      "source": [
        "iphone.info()"
      ],
      "metadata": {
        "colab": {
          "base_uri": "https://localhost:8080/"
        },
        "id": "3EDU1kWtrQ7C",
        "outputId": "9f0aa0ee-c4a5-4661-8c09-125b7f65209e"
      },
      "execution_count": 66,
      "outputs": [
        {
          "output_type": "stream",
          "name": "stdout",
          "text": [
            "iPhone 13  price is 500\n"
          ]
        }
      ]
    },
    {
      "cell_type": "code",
      "source": [
        "iphone.changePrice(600)"
      ],
      "metadata": {
        "id": "_AEziNwTrS4M"
      },
      "execution_count": 67,
      "outputs": []
    },
    {
      "cell_type": "code",
      "source": [
        "iphone.info()"
      ],
      "metadata": {
        "colab": {
          "base_uri": "https://localhost:8080/"
        },
        "id": "SrJSQHRIrnr5",
        "outputId": "94f6d7e7-b2ea-4e8a-c295-a2e463bd8d1e"
      },
      "execution_count": 68,
      "outputs": [
        {
          "output_type": "stream",
          "name": "stdout",
          "text": [
            "iPhone 13  price is 600\n"
          ]
        }
      ]
    },
    {
      "cell_type": "markdown",
      "source": [
        "Abstraction >> soyutlama"
      ],
      "metadata": {
        "id": "DE9fztxar0yD"
      }
    },
    {
      "cell_type": "code",
      "source": [
        "from abc import ABC , abstractclassmethod"
      ],
      "metadata": {
        "id": "Yp-XDRz-ro2y"
      },
      "execution_count": 69,
      "outputs": []
    },
    {
      "cell_type": "code",
      "source": [
        "class Car (ABC):\n",
        "  @abstractclassmethod\n",
        "  def maxSpeed(self):\n",
        "    pass"
      ],
      "metadata": {
        "id": "JyqIqgjCs0gI"
      },
      "execution_count": 70,
      "outputs": []
    },
    {
      "cell_type": "code",
      "source": [
        "class Tesla (Car):\n",
        "  def maxSpeed(self):\n",
        "    print(\"200\")"
      ],
      "metadata": {
        "id": "IK_rFET4tBbs"
      },
      "execution_count": 71,
      "outputs": []
    },
    {
      "cell_type": "code",
      "source": [
        "tesla = Tesla ()"
      ],
      "metadata": {
        "id": "pccQzkObtJ04"
      },
      "execution_count": 72,
      "outputs": []
    },
    {
      "cell_type": "code",
      "source": [
        "tesla.maxSpeed()"
      ],
      "metadata": {
        "colab": {
          "base_uri": "https://localhost:8080/"
        },
        "id": "YMbz4UcbtOSs",
        "outputId": "79a6081e-1370-4e7b-f6d2-a85c84db91a1"
      },
      "execution_count": 73,
      "outputs": [
        {
          "output_type": "stream",
          "name": "stdout",
          "text": [
            "200\n"
          ]
        }
      ]
    },
    {
      "cell_type": "code",
      "source": [
        "class Fruit():\n",
        "\n",
        "  def __init__(self,name,calories):\n",
        "    self.name = name\n",
        "    self.calories = calories\n",
        "\n",
        "  def __str__(self):\n",
        "    return f\"{self.name}: {self.calories} calories\"\n",
        "\n",
        "  def __len__(self):\n",
        "    return self.calories"
      ],
      "metadata": {
        "id": "JBvQBTNctRgt"
      },
      "execution_count": 77,
      "outputs": []
    },
    {
      "cell_type": "code",
      "source": [
        "myFruit = Fruit(\"banana\",150)"
      ],
      "metadata": {
        "id": "D4l0HAyNu1D4"
      },
      "execution_count": 78,
      "outputs": []
    },
    {
      "cell_type": "code",
      "source": [
        "myFruit.calories"
      ],
      "metadata": {
        "colab": {
          "base_uri": "https://localhost:8080/"
        },
        "id": "LhsIrdA0u2z1",
        "outputId": "26b646ef-001f-4a3a-a3ad-86e1b52fa5fb"
      },
      "execution_count": 79,
      "outputs": [
        {
          "output_type": "execute_result",
          "data": {
            "text/plain": [
              "150"
            ]
          },
          "metadata": {},
          "execution_count": 79
        }
      ]
    },
    {
      "cell_type": "code",
      "source": [
        "while True:\n",
        "  try :\n",
        "    myAge = int(input(\"enter age \"))\n",
        "    print(myAge*2)\n",
        "    break\n",
        "  except:\n",
        "    print(\"enter your age!!\")\n"
      ],
      "metadata": {
        "colab": {
          "base_uri": "https://localhost:8080/"
        },
        "id": "GoEydvo0u9rS",
        "outputId": "1c2e51f8-9863-45f5-f539-28bd18f0b7f2"
      },
      "execution_count": 83,
      "outputs": [
        {
          "output_type": "stream",
          "name": "stdout",
          "text": [
            "enter age atlas\n",
            "enter your age!!\n",
            "enter age 23\n",
            "46\n"
          ]
        }
      ]
    },
    {
      "cell_type": "code",
      "source": [
        "def add_numbers(a : int , b: int ) -> int :\n",
        "  return a + b"
      ],
      "metadata": {
        "id": "_Xp8zKSyvgn6"
      },
      "execution_count": 84,
      "outputs": []
    },
    {
      "cell_type": "code",
      "source": [
        "add_numbers(4,7)"
      ],
      "metadata": {
        "colab": {
          "base_uri": "https://localhost:8080/"
        },
        "id": "50ngHTvs9etX",
        "outputId": "566450ae-5693-49c8-d054-d87da10b434b"
      },
      "execution_count": 85,
      "outputs": [
        {
          "output_type": "execute_result",
          "data": {
            "text/plain": [
              "11"
            ]
          },
          "metadata": {},
          "execution_count": 85
        }
      ]
    },
    {
      "cell_type": "code",
      "source": [],
      "metadata": {
        "id": "r0h8UbOq9gow"
      },
      "execution_count": null,
      "outputs": []
    }
  ]
}