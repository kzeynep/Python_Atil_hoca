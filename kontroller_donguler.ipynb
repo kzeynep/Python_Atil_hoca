{
  "nbformat": 4,
  "nbformat_minor": 0,
  "metadata": {
    "colab": {
      "provenance": [],
      "authorship_tag": "ABX9TyPRy7aEZVB5Lk/CqQtSgIfc",
      "include_colab_link": true
    },
    "kernelspec": {
      "name": "python3",
      "display_name": "Python 3"
    },
    "language_info": {
      "name": "python"
    }
  },
  "cells": [
    {
      "cell_type": "markdown",
      "metadata": {
        "id": "view-in-github",
        "colab_type": "text"
      },
      "source": [
        "<a href=\"https://colab.research.google.com/github/kzeynep/Python_Atil_hoca/blob/main/kontroller_donguler.ipynb\" target=\"_parent\"><img src=\"https://colab.research.google.com/assets/colab-badge.svg\" alt=\"Open In Colab\"/></a>"
      ]
    },
    {
      "cell_type": "code",
      "execution_count": null,
      "metadata": {
        "id": "7ph5-vwot9ev"
      },
      "outputs": [],
      "source": [
        "x = 5\n",
        "y = 2"
      ]
    },
    {
      "cell_type": "code",
      "source": [
        "x > y"
      ],
      "metadata": {
        "colab": {
          "base_uri": "https://localhost:8080/"
        },
        "id": "zrybqJB8uPoz",
        "outputId": "af8b812f-bbed-49ac-8568-827e1c1a4c6d"
      },
      "execution_count": null,
      "outputs": [
        {
          "output_type": "execute_result",
          "data": {
            "text/plain": [
              "True"
            ]
          },
          "metadata": {},
          "execution_count": 9
        }
      ]
    },
    {
      "cell_type": "code",
      "source": [
        "x < y"
      ],
      "metadata": {
        "colab": {
          "base_uri": "https://localhost:8080/"
        },
        "id": "cZn7HGnPuQ6U",
        "outputId": "d29be579-6a14-416a-fbd2-84c544c1f017"
      },
      "execution_count": null,
      "outputs": [
        {
          "output_type": "execute_result",
          "data": {
            "text/plain": [
              "False"
            ]
          },
          "metadata": {},
          "execution_count": 3
        }
      ]
    },
    {
      "cell_type": "code",
      "source": [
        "x == y"
      ],
      "metadata": {
        "colab": {
          "base_uri": "https://localhost:8080/"
        },
        "id": "ZgPz1WqHuSRK",
        "outputId": "d75435a2-a184-4163-ebe1-4e8e1b73b77a"
      },
      "execution_count": null,
      "outputs": [
        {
          "output_type": "execute_result",
          "data": {
            "text/plain": [
              "False"
            ]
          },
          "metadata": {},
          "execution_count": 4
        }
      ]
    },
    {
      "cell_type": "code",
      "source": [
        "x != y"
      ],
      "metadata": {
        "colab": {
          "base_uri": "https://localhost:8080/"
        },
        "id": "FQK4hqEkuhD6",
        "outputId": "4fe4e8ed-6405-4556-84ca-14656eedf2f5"
      },
      "execution_count": null,
      "outputs": [
        {
          "output_type": "execute_result",
          "data": {
            "text/plain": [
              "True"
            ]
          },
          "metadata": {},
          "execution_count": 5
        }
      ]
    },
    {
      "cell_type": "code",
      "source": [
        "True and False"
      ],
      "metadata": {
        "colab": {
          "base_uri": "https://localhost:8080/"
        },
        "id": "9NllotDPuij6",
        "outputId": "15182c52-8e05-435a-8279-636a60b4271a"
      },
      "execution_count": null,
      "outputs": [
        {
          "output_type": "execute_result",
          "data": {
            "text/plain": [
              "False"
            ]
          },
          "metadata": {},
          "execution_count": 10
        }
      ]
    },
    {
      "cell_type": "code",
      "source": [
        "True or False"
      ],
      "metadata": {
        "colab": {
          "base_uri": "https://localhost:8080/"
        },
        "id": "_2OF_BS-utal",
        "outputId": "69fb677e-d484-491d-c8a9-c9f387394d86"
      },
      "execution_count": null,
      "outputs": [
        {
          "output_type": "execute_result",
          "data": {
            "text/plain": [
              "True"
            ]
          },
          "metadata": {},
          "execution_count": 11
        }
      ]
    },
    {
      "cell_type": "code",
      "source": [
        "not True"
      ],
      "metadata": {
        "colab": {
          "base_uri": "https://localhost:8080/"
        },
        "id": "fiT6QM7GuvP_",
        "outputId": "9d252d70-4eb2-47e8-82bd-4c89b802e8cb"
      },
      "execution_count": null,
      "outputs": [
        {
          "output_type": "execute_result",
          "data": {
            "text/plain": [
              "False"
            ]
          },
          "metadata": {},
          "execution_count": 12
        }
      ]
    },
    {
      "cell_type": "markdown",
      "source": [
        "if kontrolleri"
      ],
      "metadata": {
        "id": "LOlGD97MvFif"
      }
    },
    {
      "cell_type": "code",
      "source": [
        "my_superhero = \"Batman\""
      ],
      "metadata": {
        "id": "tInljGk8uyxA"
      },
      "execution_count": null,
      "outputs": []
    },
    {
      "cell_type": "code",
      "source": [
        "my_superhero == \"Batman\""
      ],
      "metadata": {
        "colab": {
          "base_uri": "https://localhost:8080/"
        },
        "id": "v86wDx6nvV0V",
        "outputId": "ceb1d161-990b-4c40-dc0f-3a9d2a0d2ce4"
      },
      "execution_count": null,
      "outputs": [
        {
          "output_type": "execute_result",
          "data": {
            "text/plain": [
              "True"
            ]
          },
          "metadata": {},
          "execution_count": 14
        }
      ]
    },
    {
      "cell_type": "code",
      "source": [
        "my_superhero == \"Superman\""
      ],
      "metadata": {
        "colab": {
          "base_uri": "https://localhost:8080/"
        },
        "id": "H-MlYgd4vYjD",
        "outputId": "60c43aa7-1e2c-4bc5-c2af-428858daeff5"
      },
      "execution_count": null,
      "outputs": [
        {
          "output_type": "execute_result",
          "data": {
            "text/plain": [
              "False"
            ]
          },
          "metadata": {},
          "execution_count": 15
        }
      ]
    },
    {
      "cell_type": "code",
      "source": [
        "if (my_superhero == \"Batman\"):\n",
        "    print(\"batmani var\")"
      ],
      "metadata": {
        "colab": {
          "base_uri": "https://localhost:8080/"
        },
        "id": "GlMBBQ_nvbir",
        "outputId": "97a6e6cc-ac39-46df-f18b-97458a1c75fb"
      },
      "execution_count": null,
      "outputs": [
        {
          "output_type": "stream",
          "name": "stdout",
          "text": [
            "batmani var\n"
          ]
        }
      ]
    },
    {
      "cell_type": "code",
      "source": [
        "if (my_superhero == \"Superman\"):\n",
        "    print(\"batmani var\")"
      ],
      "metadata": {
        "id": "hxy64XYJvk4r"
      },
      "execution_count": null,
      "outputs": []
    },
    {
      "cell_type": "code",
      "source": [
        "if (my_superhero == \"Superman\"):\n",
        "    print(\"batmani var\")\n",
        "else:\n",
        "    print(\"batmani yok\")"
      ],
      "metadata": {
        "colab": {
          "base_uri": "https://localhost:8080/"
        },
        "id": "UiphfTipvpux",
        "outputId": "34e276e3-9bf5-4274-ff0b-6e0481898af2"
      },
      "execution_count": null,
      "outputs": [
        {
          "output_type": "stream",
          "name": "stdout",
          "text": [
            "batmani yok\n"
          ]
        }
      ]
    },
    {
      "cell_type": "code",
      "source": [
        "if (my_superhero == \"Superman\"):\n",
        "    print(\"batmani var\")\n",
        "elif (my_superhero == \"Batman\"):\n",
        "    print(\"batmani var2\")\n",
        "else:\n",
        "    print(\"batmani yok\")"
      ],
      "metadata": {
        "colab": {
          "base_uri": "https://localhost:8080/"
        },
        "id": "g9Xqiummvua_",
        "outputId": "89221963-6bdd-4b99-9ac3-5c867baeb448"
      },
      "execution_count": null,
      "outputs": [
        {
          "output_type": "stream",
          "name": "stdout",
          "text": [
            "batmani var2\n"
          ]
        }
      ]
    },
    {
      "cell_type": "code",
      "source": [
        "mySuperhero = input(\"superhero: \")"
      ],
      "metadata": {
        "colab": {
          "base_uri": "https://localhost:8080/"
        },
        "id": "mfDxjslbv4c9",
        "outputId": "90150f3b-7e80-4281-f798-fdba41fbf092"
      },
      "execution_count": null,
      "outputs": [
        {
          "name": "stdout",
          "output_type": "stream",
          "text": [
            "superhero: batman\n"
          ]
        }
      ]
    },
    {
      "cell_type": "code",
      "source": [
        "if (mySuperhero == \"Superman\"):\n",
        "    print(\"batmani var\")\n",
        "elif (mySuperhero == \"Batman\"):\n",
        "    print(\"batmani var2\")\n",
        "else:\n",
        "    print(\"batmani yok\")"
      ],
      "metadata": {
        "colab": {
          "base_uri": "https://localhost:8080/"
        },
        "id": "YoN1FpdCwH7T",
        "outputId": "753594d2-0ae4-4771-cea4-206cb2389d60"
      },
      "execution_count": null,
      "outputs": [
        {
          "output_type": "stream",
          "name": "stdout",
          "text": [
            "batmani yok\n"
          ]
        }
      ]
    },
    {
      "cell_type": "markdown",
      "source": [
        "for ve while döngüleri >>\n",
        "for genellikle koleksiyonlar da kullanılır\n"
      ],
      "metadata": {
        "id": "Ty4L63FgwguI"
      }
    },
    {
      "cell_type": "code",
      "source": [
        "my_list = [10,20,30,40,50,60,70]"
      ],
      "metadata": {
        "id": "bCIvw2t7wnHG"
      },
      "execution_count": null,
      "outputs": []
    },
    {
      "cell_type": "code",
      "source": [
        "for number in my_list:\n",
        "  print(number)"
      ],
      "metadata": {
        "colab": {
          "base_uri": "https://localhost:8080/"
        },
        "id": "EY0-DgKywwRi",
        "outputId": "cdeb82a0-07e5-4d70-bfdf-0a3dec6b6085"
      },
      "execution_count": null,
      "outputs": [
        {
          "output_type": "stream",
          "name": "stdout",
          "text": [
            "10\n",
            "20\n",
            "30\n",
            "40\n",
            "50\n",
            "60\n",
            "70\n"
          ]
        }
      ]
    },
    {
      "cell_type": "code",
      "source": [
        "for num in my_list:\n",
        "  new_number = num * 5 / 3\n",
        "  print(new_number)"
      ],
      "metadata": {
        "colab": {
          "base_uri": "https://localhost:8080/"
        },
        "id": "nwL0KyD9w24e",
        "outputId": "8edf94d3-4805-42a4-8d25-4e1385592e40"
      },
      "execution_count": null,
      "outputs": [
        {
          "output_type": "stream",
          "name": "stdout",
          "text": [
            "16.666666666666668\n",
            "33.333333333333336\n",
            "50.0\n",
            "66.66666666666667\n",
            "83.33333333333333\n",
            "100.0\n",
            "116.66666666666667\n"
          ]
        }
      ]
    },
    {
      "cell_type": "code",
      "source": [
        "for sayi in my_list:\n",
        "  if sayi % 6 == 0:\n",
        "    print(f\"{sayi} 6'ya tam bölünür\")\n",
        "  else :\n",
        "    print(f\"{sayi} 6'ya tam bölünmez\")\n",
        "  print(\"döngü bitti\")"
      ],
      "metadata": {
        "colab": {
          "base_uri": "https://localhost:8080/"
        },
        "id": "txGWP6jsxIiw",
        "outputId": "3afade4b-19ff-4af0-849e-132f468a9775"
      },
      "execution_count": null,
      "outputs": [
        {
          "output_type": "stream",
          "name": "stdout",
          "text": [
            "10 6'ya tam bölünmez\n",
            "döngü bitti\n",
            "20 6'ya tam bölünmez\n",
            "döngü bitti\n",
            "30 6'ya tam bölünür\n",
            "döngü bitti\n",
            "40 6'ya tam bölünmez\n",
            "döngü bitti\n",
            "50 6'ya tam bölünmez\n",
            "döngü bitti\n",
            "60 6'ya tam bölünür\n",
            "döngü bitti\n",
            "70 6'ya tam bölünmez\n",
            "döngü bitti\n"
          ]
        }
      ]
    },
    {
      "cell_type": "code",
      "source": [
        "my_tuple = (10,20,30,40,50,60,70)"
      ],
      "metadata": {
        "id": "GYUZuFG8xpDr"
      },
      "execution_count": 1,
      "outputs": []
    },
    {
      "cell_type": "code",
      "source": [
        "for num in my_tuple :\n",
        "  print(num / 5 *2)"
      ],
      "metadata": {
        "colab": {
          "base_uri": "https://localhost:8080/"
        },
        "id": "K0MDgqHXu1TH",
        "outputId": "69abbe4b-d27b-4109-e42f-5fddab3d375b"
      },
      "execution_count": 2,
      "outputs": [
        {
          "output_type": "stream",
          "name": "stdout",
          "text": [
            "4.0\n",
            "8.0\n",
            "12.0\n",
            "16.0\n",
            "20.0\n",
            "24.0\n",
            "28.0\n"
          ]
        }
      ]
    },
    {
      "cell_type": "markdown",
      "source": [
        "break continue pass"
      ],
      "metadata": {
        "id": "rxSs8hAtv3cK"
      }
    },
    {
      "cell_type": "code",
      "source": [
        "my_list =[10,20,30,40,50,60,70]"
      ],
      "metadata": {
        "id": "iZiiqeKuu8Jj"
      },
      "execution_count": 10,
      "outputs": []
    },
    {
      "cell_type": "code",
      "source": [
        "print(\"for döngüsü başlatılacak\")\n",
        "for num in my_list:\n",
        "  print(num)\n",
        "print(\"for döngüsü bitti\")"
      ],
      "metadata": {
        "colab": {
          "base_uri": "https://localhost:8080/"
        },
        "id": "o5SzsbJlwGI2",
        "outputId": "919760b4-19b7-42bb-a7ed-e958a76a3614"
      },
      "execution_count": 11,
      "outputs": [
        {
          "output_type": "stream",
          "name": "stdout",
          "text": [
            "for döngüsü başlatılacak\n",
            "10\n",
            "20\n",
            "30\n",
            "40\n",
            "50\n",
            "60\n",
            "70\n",
            "for döngüsü bitti\n"
          ]
        }
      ]
    },
    {
      "cell_type": "code",
      "source": [
        "40 in my_list"
      ],
      "metadata": {
        "colab": {
          "base_uri": "https://localhost:8080/"
        },
        "id": "El5NWYT1wQes",
        "outputId": "da3575cd-c9ff-4fd9-87a0-8454dfe02679"
      },
      "execution_count": 12,
      "outputs": [
        {
          "output_type": "execute_result",
          "data": {
            "text/plain": [
              "True"
            ]
          },
          "metadata": {},
          "execution_count": 12
        }
      ]
    },
    {
      "cell_type": "code",
      "source": [
        "for number in my_list:\n",
        "  print(number)\n",
        "  if number == 40 :\n",
        "   print(\"evet 40 var \")\n",
        "   break"
      ],
      "metadata": {
        "colab": {
          "base_uri": "https://localhost:8080/"
        },
        "id": "OmjVnn3TwSyq",
        "outputId": "f8d41d81-e03e-4239-f883-374fab68e54d"
      },
      "execution_count": 13,
      "outputs": [
        {
          "output_type": "stream",
          "name": "stdout",
          "text": [
            "10\n",
            "20\n",
            "30\n",
            "40\n",
            "evet 40 var \n"
          ]
        }
      ]
    },
    {
      "cell_type": "code",
      "source": [
        "my_list =[10,20,30,40,50,60,70]"
      ],
      "metadata": {
        "id": "kVxjsfonwc9I"
      },
      "execution_count": 14,
      "outputs": []
    },
    {
      "cell_type": "code",
      "source": [
        "for number in my_list:\n",
        "  if number == 40 :\n",
        "      continue\n",
        "  print(number)\n",
        ""
      ],
      "metadata": {
        "colab": {
          "base_uri": "https://localhost:8080/"
        },
        "id": "QItm-ZhTw6vQ",
        "outputId": "b762281f-4f5b-45e2-d218-c5cf03351fb2"
      },
      "execution_count": 17,
      "outputs": [
        {
          "output_type": "stream",
          "name": "stdout",
          "text": [
            "10\n",
            "20\n",
            "30\n",
            "50\n",
            "60\n",
            "70\n"
          ]
        }
      ]
    },
    {
      "cell_type": "code",
      "source": [
        "for num in my_list:\n",
        "  pass"
      ],
      "metadata": {
        "id": "xU2zPwnuw9g1"
      },
      "execution_count": 18,
      "outputs": []
    },
    {
      "cell_type": "markdown",
      "source": [
        "while döngüsü"
      ],
      "metadata": {
        "id": "UYA_S2zaxkuQ"
      }
    },
    {
      "cell_type": "code",
      "source": [
        "x = 0"
      ],
      "metadata": {
        "id": "Wd2HVYGPxaHu"
      },
      "execution_count": 27,
      "outputs": []
    },
    {
      "cell_type": "code",
      "source": [
        "while x < 10 :\n",
        "  print(x)\n",
        "  x +=1"
      ],
      "metadata": {
        "colab": {
          "base_uri": "https://localhost:8080/"
        },
        "id": "GuoTzyLgxtDU",
        "outputId": "66f47629-b167-40e4-aaeb-572f87082cc4"
      },
      "execution_count": 28,
      "outputs": [
        {
          "output_type": "stream",
          "name": "stdout",
          "text": [
            "0\n",
            "1\n",
            "2\n",
            "3\n",
            "4\n",
            "5\n",
            "6\n",
            "7\n",
            "8\n",
            "9\n"
          ]
        }
      ]
    },
    {
      "cell_type": "code",
      "source": [
        "p = 0\n",
        "while p < 20 :\n",
        "  print(f\"value of p : {p}\")\n",
        "  p += 1"
      ],
      "metadata": {
        "colab": {
          "base_uri": "https://localhost:8080/"
        },
        "id": "HTU6vPC5xyzk",
        "outputId": "6f0174c7-7269-4bed-ab78-547133663869"
      },
      "execution_count": 30,
      "outputs": [
        {
          "output_type": "stream",
          "name": "stdout",
          "text": [
            "value of p : 0\n",
            "value of p : 1\n",
            "value of p : 2\n",
            "value of p : 3\n",
            "value of p : 4\n",
            "value of p : 5\n",
            "value of p : 6\n",
            "value of p : 7\n",
            "value of p : 8\n",
            "value of p : 9\n",
            "value of p : 10\n",
            "value of p : 11\n",
            "value of p : 12\n",
            "value of p : 13\n",
            "value of p : 14\n",
            "value of p : 15\n",
            "value of p : 16\n",
            "value of p : 17\n",
            "value of p : 18\n",
            "value of p : 19\n"
          ]
        }
      ]
    },
    {
      "cell_type": "code",
      "source": [
        "list(range(11))"
      ],
      "metadata": {
        "colab": {
          "base_uri": "https://localhost:8080/"
        },
        "id": "oHqAEkzsyqB-",
        "outputId": "d5a5fcfb-cd94-49f7-dd90-a50f1d408d4b"
      },
      "execution_count": 32,
      "outputs": [
        {
          "output_type": "execute_result",
          "data": {
            "text/plain": [
              "[0, 1, 2, 3, 4, 5, 6, 7, 8, 9, 10]"
            ]
          },
          "metadata": {},
          "execution_count": 32
        }
      ]
    },
    {
      "cell_type": "code",
      "source": [
        "from random import randint"
      ],
      "metadata": {
        "id": "gUVtxT_e-AAG"
      },
      "execution_count": 33,
      "outputs": []
    },
    {
      "cell_type": "code",
      "source": [
        "randint(0,100)"
      ],
      "metadata": {
        "colab": {
          "base_uri": "https://localhost:8080/"
        },
        "id": "jJVRj8_Z-uAF",
        "outputId": "a9f38e1e-6cd4-40d6-9888-a622f2897ab5"
      },
      "execution_count": 34,
      "outputs": [
        {
          "output_type": "execute_result",
          "data": {
            "text/plain": [
              "71"
            ]
          },
          "metadata": {},
          "execution_count": 34
        }
      ]
    },
    {
      "cell_type": "code",
      "source": [],
      "metadata": {
        "id": "8re8q5cB-v4t"
      },
      "execution_count": null,
      "outputs": []
    }
  ]
}