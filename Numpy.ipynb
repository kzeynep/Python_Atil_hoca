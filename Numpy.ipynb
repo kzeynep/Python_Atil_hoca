{
  "nbformat": 4,
  "nbformat_minor": 0,
  "metadata": {
    "colab": {
      "provenance": [],
      "authorship_tag": "ABX9TyOKihbGBi3lPRRDEUuhGE6k",
      "include_colab_link": true
    },
    "kernelspec": {
      "name": "python3",
      "display_name": "Python 3"
    },
    "language_info": {
      "name": "python"
    }
  },
  "cells": [
    {
      "cell_type": "markdown",
      "metadata": {
        "id": "view-in-github",
        "colab_type": "text"
      },
      "source": [
        "<a href=\"https://colab.research.google.com/github/kzeynep/Python_Atil_hoca/blob/main/Numpy.ipynb\" target=\"_parent\"><img src=\"https://colab.research.google.com/assets/colab-badge.svg\" alt=\"Open In Colab\"/></a>"
      ]
    },
    {
      "cell_type": "code",
      "execution_count": 1,
      "metadata": {
        "id": "Cx9Ivh3sVXnH"
      },
      "outputs": [],
      "source": [
        "import numpy as np"
      ]
    },
    {
      "cell_type": "code",
      "source": [
        "np.array2string(np.array([[1,2],[3,4]]))"
      ],
      "metadata": {
        "colab": {
          "base_uri": "https://localhost:8080/",
          "height": 36
        },
        "id": "Gy8uM_qXVhfe",
        "outputId": "4e91db73-0ee8-432c-e25c-0f0fcad497ee"
      },
      "execution_count": 4,
      "outputs": [
        {
          "output_type": "execute_result",
          "data": {
            "text/plain": [
              "'[[1 2]\\n [3 4]]'"
            ],
            "application/vnd.google.colaboratory.intrinsic+json": {
              "type": "string"
            }
          },
          "metadata": {},
          "execution_count": 4
        }
      ]
    },
    {
      "cell_type": "code",
      "source": [
        "type(np.array([[1,2],[3,4]]))"
      ],
      "metadata": {
        "colab": {
          "base_uri": "https://localhost:8080/"
        },
        "id": "t-e9Kg2mV0Zi",
        "outputId": "01be728b-4d1d-445a-dbba-5cd6b5e18aaf"
      },
      "execution_count": 5,
      "outputs": [
        {
          "output_type": "execute_result",
          "data": {
            "text/plain": [
              "numpy.ndarray"
            ]
          },
          "metadata": {},
          "execution_count": 5
        }
      ]
    },
    {
      "cell_type": "code",
      "source": [
        "myList = [10,20,30,40,50,60,70]"
      ],
      "metadata": {
        "id": "EbcisoWSWAeS"
      },
      "execution_count": 6,
      "outputs": []
    },
    {
      "cell_type": "code",
      "source": [
        "newList = np.array(myList)"
      ],
      "metadata": {
        "id": "7SY15j6pWjoo"
      },
      "execution_count": 9,
      "outputs": []
    },
    {
      "cell_type": "code",
      "source": [
        "np.arange(0,20,2)"
      ],
      "metadata": {
        "colab": {
          "base_uri": "https://localhost:8080/"
        },
        "id": "LuyPSFm2Ws7H",
        "outputId": "f9b7c301-d693-4d6e-96dc-dd44e3396d0a"
      },
      "execution_count": 10,
      "outputs": [
        {
          "output_type": "execute_result",
          "data": {
            "text/plain": [
              "array([ 0,  2,  4,  6,  8, 10, 12, 14, 16, 18])"
            ]
          },
          "metadata": {},
          "execution_count": 10
        }
      ]
    },
    {
      "cell_type": "code",
      "source": [
        "np_array =  np.arange(0,10)"
      ],
      "metadata": {
        "id": "cAasHuf4XBhe"
      },
      "execution_count": 13,
      "outputs": []
    },
    {
      "cell_type": "code",
      "source": [
        "np_array"
      ],
      "metadata": {
        "colab": {
          "base_uri": "https://localhost:8080/"
        },
        "id": "s0PajCwtXdVX",
        "outputId": "951c6ac0-6568-4be8-87a7-113eb40b34d4"
      },
      "execution_count": 14,
      "outputs": [
        {
          "output_type": "execute_result",
          "data": {
            "text/plain": [
              "array([0, 1, 2, 3, 4, 5, 6, 7, 8, 9])"
            ]
          },
          "metadata": {},
          "execution_count": 14
        }
      ]
    },
    {
      "cell_type": "code",
      "source": [
        "np_array[::-1]"
      ],
      "metadata": {
        "colab": {
          "base_uri": "https://localhost:8080/"
        },
        "id": "j5RPDFOFXfF7",
        "outputId": "b3f8518c-5708-4661-aceb-77a7972f9839"
      },
      "execution_count": 15,
      "outputs": [
        {
          "output_type": "execute_result",
          "data": {
            "text/plain": [
              "array([9, 8, 7, 6, 5, 4, 3, 2, 1, 0])"
            ]
          },
          "metadata": {},
          "execution_count": 15
        }
      ]
    },
    {
      "cell_type": "code",
      "source": [
        "np.random.randn(4,4)"
      ],
      "metadata": {
        "colab": {
          "base_uri": "https://localhost:8080/"
        },
        "id": "7vldKEw5XiRJ",
        "outputId": "7ecff761-ff4d-42cd-ecc7-7de425e5414c"
      },
      "execution_count": 16,
      "outputs": [
        {
          "output_type": "execute_result",
          "data": {
            "text/plain": [
              "array([[ 0.97639434,  0.92307078, -1.00768149,  0.71478514],\n",
              "       [ 0.15981491, -0.95322628, -1.70606085,  0.75668573],\n",
              "       [ 1.39002846,  0.11046681, -0.81325304, -0.33894048],\n",
              "       [ 0.24388769, -1.03235993,  0.98712596, -0.2912535 ]])"
            ]
          },
          "metadata": {},
          "execution_count": 16
        }
      ]
    },
    {
      "cell_type": "code",
      "source": [
        "np.random.randint(1,300,5)"
      ],
      "metadata": {
        "colab": {
          "base_uri": "https://localhost:8080/"
        },
        "id": "FeEePhUyXqge",
        "outputId": "19aeb251-2ae0-4a01-e71a-9d11630de5f8"
      },
      "execution_count": 17,
      "outputs": [
        {
          "output_type": "execute_result",
          "data": {
            "text/plain": [
              "array([193, 131, 272, 139,  94])"
            ]
          },
          "metadata": {},
          "execution_count": 17
        }
      ]
    },
    {
      "cell_type": "code",
      "source": [
        "first_array = np.array([[10,20],[30,40]])\n",
        "second_array = np.array([[50,60],[70,80]])"
      ],
      "metadata": {
        "id": "6WviCYRkXwms"
      },
      "execution_count": 18,
      "outputs": []
    },
    {
      "cell_type": "code",
      "source": [
        "first_array + second_array"
      ],
      "metadata": {
        "colab": {
          "base_uri": "https://localhost:8080/"
        },
        "id": "sPWTgq3uZXB-",
        "outputId": "dc8639ae-80b6-4e24-b971-dfa9dedd0231"
      },
      "execution_count": 19,
      "outputs": [
        {
          "output_type": "execute_result",
          "data": {
            "text/plain": [
              "array([[ 60,  80],\n",
              "       [100, 120]])"
            ]
          },
          "metadata": {},
          "execution_count": 19
        }
      ]
    },
    {
      "cell_type": "code",
      "source": [
        "first_matrix = np.array([[10,20,30]])"
      ],
      "metadata": {
        "id": "kty8YEVoZau5"
      },
      "execution_count": 21,
      "outputs": []
    },
    {
      "cell_type": "code",
      "source": [
        "second_matrix = np.array([[2,3],[2,3],[2,3]])"
      ],
      "metadata": {
        "id": "Gn1kK23karN-"
      },
      "execution_count": 22,
      "outputs": []
    },
    {
      "cell_type": "code",
      "source": [
        "second_matrix = first_matrix.dot(second_matrix)"
      ],
      "metadata": {
        "id": "F-JDIHxxa5ab"
      },
      "execution_count": 23,
      "outputs": []
    },
    {
      "cell_type": "code",
      "source": [
        "second_matrix"
      ],
      "metadata": {
        "colab": {
          "base_uri": "https://localhost:8080/"
        },
        "id": "EUPgaIcdbEM5",
        "outputId": "e8b23cf8-7520-4b18-831f-f86adbe4f72d"
      },
      "execution_count": 24,
      "outputs": [
        {
          "output_type": "execute_result",
          "data": {
            "text/plain": [
              "array([[120, 180]])"
            ]
          },
          "metadata": {},
          "execution_count": 24
        }
      ]
    },
    {
      "cell_type": "code",
      "source": [
        "second_matrix.shape"
      ],
      "metadata": {
        "colab": {
          "base_uri": "https://localhost:8080/"
        },
        "id": "a-6GylxcbF_e",
        "outputId": "779a5f18-b177-4d12-c4a3-d35a569c2e53"
      },
      "execution_count": 25,
      "outputs": [
        {
          "output_type": "execute_result",
          "data": {
            "text/plain": [
              "(1, 2)"
            ]
          },
          "metadata": {},
          "execution_count": 25
        }
      ]
    },
    {
      "cell_type": "code",
      "source": [
        "new_array = np.random.randint(1,100,20)"
      ],
      "metadata": {
        "id": "wkIYzADGbL17"
      },
      "execution_count": 26,
      "outputs": []
    },
    {
      "cell_type": "code",
      "source": [
        "new_array"
      ],
      "metadata": {
        "colab": {
          "base_uri": "https://localhost:8080/"
        },
        "id": "qAI78HYvbyGL",
        "outputId": "02666c89-c641-48de-9131-2e05421f51bb"
      },
      "execution_count": 27,
      "outputs": [
        {
          "output_type": "execute_result",
          "data": {
            "text/plain": [
              "array([50, 83, 61, 81, 59, 37, 67, 42, 19, 17,  6, 18, 61, 18, 75, 59, 89,\n",
              "       77, 20, 41])"
            ]
          },
          "metadata": {},
          "execution_count": 27
        }
      ]
    },
    {
      "cell_type": "code",
      "source": [
        "new_array > 25"
      ],
      "metadata": {
        "colab": {
          "base_uri": "https://localhost:8080/"
        },
        "id": "r-yjhvrMbzMJ",
        "outputId": "18e058f1-c7be-45b0-fb3a-1b056718b105"
      },
      "execution_count": 28,
      "outputs": [
        {
          "output_type": "execute_result",
          "data": {
            "text/plain": [
              "array([ True,  True,  True,  True,  True,  True,  True,  True, False,\n",
              "       False, False, False,  True, False,  True,  True,  True,  True,\n",
              "       False,  True])"
            ]
          },
          "metadata": {},
          "execution_count": 28
        }
      ]
    },
    {
      "cell_type": "code",
      "source": [
        "new_array[new_array > 25]"
      ],
      "metadata": {
        "colab": {
          "base_uri": "https://localhost:8080/"
        },
        "id": "PKHGYFhOb1Z0",
        "outputId": "45326e0b-2d4c-4098-fea2-814b5787392d"
      },
      "execution_count": 29,
      "outputs": [
        {
          "output_type": "execute_result",
          "data": {
            "text/plain": [
              "array([50, 83, 61, 81, 59, 37, 67, 42, 61, 75, 59, 89, 77, 41])"
            ]
          },
          "metadata": {},
          "execution_count": 29
        }
      ]
    },
    {
      "cell_type": "code",
      "source": [
        "matrix_array = np.array([[10,20],[20,30],[30,40]])"
      ],
      "metadata": {
        "id": "EoFw6fynb5Qo"
      },
      "execution_count": 30,
      "outputs": []
    },
    {
      "cell_type": "code",
      "source": [
        "matrix_array"
      ],
      "metadata": {
        "colab": {
          "base_uri": "https://localhost:8080/"
        },
        "id": "0DuGUl9ucFXf",
        "outputId": "243137ae-13d6-406e-cf25-d3d1ebc108f1"
      },
      "execution_count": 31,
      "outputs": [
        {
          "output_type": "execute_result",
          "data": {
            "text/plain": [
              "array([[10, 20],\n",
              "       [20, 30],\n",
              "       [30, 40]])"
            ]
          },
          "metadata": {},
          "execution_count": 31
        }
      ]
    },
    {
      "cell_type": "code",
      "source": [
        "matrix_array.transpose()"
      ],
      "metadata": {
        "colab": {
          "base_uri": "https://localhost:8080/"
        },
        "id": "s6_m0rb0cHlK",
        "outputId": "4bc3b07b-660b-4939-c789-a80ba2305309"
      },
      "execution_count": 32,
      "outputs": [
        {
          "output_type": "execute_result",
          "data": {
            "text/plain": [
              "array([[10, 20, 30],\n",
              "       [20, 30, 40]])"
            ]
          },
          "metadata": {},
          "execution_count": 32
        }
      ]
    },
    {
      "cell_type": "code",
      "source": [
        "matrix_array.T"
      ],
      "metadata": {
        "colab": {
          "base_uri": "https://localhost:8080/"
        },
        "id": "OnY-PzxrcMeB",
        "outputId": "1ef5c97a-3faa-4619-b33c-021d4625adaf"
      },
      "execution_count": 33,
      "outputs": [
        {
          "output_type": "execute_result",
          "data": {
            "text/plain": [
              "array([[10, 20, 30],\n",
              "       [20, 30, 40]])"
            ]
          },
          "metadata": {},
          "execution_count": 33
        }
      ]
    },
    {
      "cell_type": "code",
      "source": [
        "random_array = np.random.random((6,1))"
      ],
      "metadata": {
        "id": "OOKUP2fVcPGx"
      },
      "execution_count": 34,
      "outputs": []
    },
    {
      "cell_type": "code",
      "source": [
        "random_array"
      ],
      "metadata": {
        "colab": {
          "base_uri": "https://localhost:8080/"
        },
        "id": "TX-IYWA9cagS",
        "outputId": "44acfdbf-7695-4ad1-8127-ae8d1eacfb48"
      },
      "execution_count": 35,
      "outputs": [
        {
          "output_type": "execute_result",
          "data": {
            "text/plain": [
              "array([[0.503986  ],\n",
              "       [0.21505193],\n",
              "       [0.87463817],\n",
              "       [0.51689516],\n",
              "       [0.83774086],\n",
              "       [0.33056394]])"
            ]
          },
          "metadata": {},
          "execution_count": 35
        }
      ]
    },
    {
      "cell_type": "code",
      "source": [
        "random_array.shape"
      ],
      "metadata": {
        "colab": {
          "base_uri": "https://localhost:8080/"
        },
        "id": "9SJk5EttccCB",
        "outputId": "9c379914-7338-43e8-b848-fcf70b54899d"
      },
      "execution_count": 37,
      "outputs": [
        {
          "output_type": "execute_result",
          "data": {
            "text/plain": [
              "(6, 1)"
            ]
          },
          "metadata": {},
          "execution_count": 37
        }
      ]
    },
    {
      "cell_type": "code",
      "source": [
        "random_array.reshape(2,3)"
      ],
      "metadata": {
        "colab": {
          "base_uri": "https://localhost:8080/"
        },
        "id": "evFmJ_t2cezj",
        "outputId": "48072b42-593e-4df0-d760-5ae1f62f22a5"
      },
      "execution_count": 38,
      "outputs": [
        {
          "output_type": "execute_result",
          "data": {
            "text/plain": [
              "array([[0.503986  , 0.21505193, 0.87463817],\n",
              "       [0.51689516, 0.83774086, 0.33056394]])"
            ]
          },
          "metadata": {},
          "execution_count": 38
        }
      ]
    },
    {
      "cell_type": "code",
      "source": [
        "data = np.array([10,20,30,12,16,100,120,48])"
      ],
      "metadata": {
        "id": "CibxA_dwcjRv"
      },
      "execution_count": 39,
      "outputs": []
    },
    {
      "cell_type": "code",
      "source": [
        "mean = np.mean(data)"
      ],
      "metadata": {
        "id": "LsTwOLnjdA4T"
      },
      "execution_count": 40,
      "outputs": []
    },
    {
      "cell_type": "code",
      "source": [
        "mean"
      ],
      "metadata": {
        "colab": {
          "base_uri": "https://localhost:8080/"
        },
        "id": "gEsFlEJedDEN",
        "outputId": "6d7ff3e2-23f8-442a-cede-e2ff5e9e7ab8"
      },
      "execution_count": 41,
      "outputs": [
        {
          "output_type": "execute_result",
          "data": {
            "text/plain": [
              "np.float64(44.5)"
            ]
          },
          "metadata": {},
          "execution_count": 41
        }
      ]
    },
    {
      "cell_type": "code",
      "source": [
        "std = np.std(data)"
      ],
      "metadata": {
        "id": "JLGkpP-7dDsq"
      },
      "execution_count": 42,
      "outputs": []
    },
    {
      "cell_type": "code",
      "source": [
        "std"
      ],
      "metadata": {
        "colab": {
          "base_uri": "https://localhost:8080/"
        },
        "id": "TMsDI7z9dHjG",
        "outputId": "bd268401-5ea1-400d-e543-176f3bf028f0"
      },
      "execution_count": 43,
      "outputs": [
        {
          "output_type": "execute_result",
          "data": {
            "text/plain": [
              "np.float64(39.78379066906521)"
            ]
          },
          "metadata": {},
          "execution_count": 43
        }
      ]
    },
    {
      "cell_type": "code",
      "source": [
        "float(std)"
      ],
      "metadata": {
        "colab": {
          "base_uri": "https://localhost:8080/"
        },
        "id": "eiyPq_K_dH7t",
        "outputId": "87396839-88d3-4823-d433-458e4b1999a8"
      },
      "execution_count": 44,
      "outputs": [
        {
          "output_type": "execute_result",
          "data": {
            "text/plain": [
              "39.78379066906521"
            ]
          },
          "metadata": {},
          "execution_count": 44
        }
      ]
    },
    {
      "cell_type": "code",
      "source": [
        "# 2x + 3y = 8 and 5x + 7y = 19"
      ],
      "metadata": {
        "id": "w2KeQcERdMXD"
      },
      "execution_count": 45,
      "outputs": []
    },
    {
      "cell_type": "code",
      "source": [
        "A = np.array([[2,3],[5,7]])"
      ],
      "metadata": {
        "id": "lhjoh3rXd6dY"
      },
      "execution_count": 46,
      "outputs": []
    },
    {
      "cell_type": "code",
      "source": [
        "B = np.array([8,19])"
      ],
      "metadata": {
        "id": "feq3-Qe5d9TG"
      },
      "execution_count": 47,
      "outputs": []
    },
    {
      "cell_type": "code",
      "source": [
        "solution = np.linalg.solve(A,B)"
      ],
      "metadata": {
        "id": "9cUpSLYkd_B4"
      },
      "execution_count": 48,
      "outputs": []
    },
    {
      "cell_type": "code",
      "source": [
        "solution"
      ],
      "metadata": {
        "colab": {
          "base_uri": "https://localhost:8080/"
        },
        "id": "ODwKK7PZeB8M",
        "outputId": "7cfe2fff-9d06-4408-878a-51683837fff3"
      },
      "execution_count": 49,
      "outputs": [
        {
          "output_type": "execute_result",
          "data": {
            "text/plain": [
              "array([1., 2.])"
            ]
          },
          "metadata": {},
          "execution_count": 49
        }
      ]
    },
    {
      "cell_type": "code",
      "source": [],
      "metadata": {
        "id": "3BIG_BWYeC2N"
      },
      "execution_count": null,
      "outputs": []
    }
  ]
}