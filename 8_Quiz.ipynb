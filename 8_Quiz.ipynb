{
  "cells": [
    {
      "cell_type": "markdown",
      "metadata": {
        "id": "view-in-github",
        "colab_type": "text"
      },
      "source": [
        "<a href=\"https://colab.research.google.com/github/kzeynep/Python_Atil_hoca/blob/main/8_Quiz.ipynb\" target=\"_parent\"><img src=\"https://colab.research.google.com/assets/colab-badge.svg\" alt=\"Open In Colab\"/></a>"
      ]
    },
    {
      "cell_type": "code",
      "execution_count": 1,
      "metadata": {
        "id": "1E0hugoDp8Eg"
      },
      "outputs": [],
      "source": [
        "# 1) Asagidaki string'in 5. harfini bir degiskene atayiniz"
      ]
    },
    {
      "cell_type": "code",
      "execution_count": 2,
      "metadata": {
        "id": "Paz-88Wvp8Ek"
      },
      "outputs": [],
      "source": [
        "my_string = \"Python Ogreniyorum\""
      ]
    },
    {
      "cell_type": "code",
      "execution_count": 58,
      "metadata": {
        "id": "isAMtvk_p8El"
      },
      "outputs": [],
      "source": [
        "#cevap\n",
        "harf = my_string[4]"
      ]
    },
    {
      "cell_type": "code",
      "execution_count": 59,
      "metadata": {
        "colab": {
          "base_uri": "https://localhost:8080/"
        },
        "id": "FnKErBW2p8En",
        "outputId": "edfe7e0c-c279-49b3-d68a-69b9ab993c70"
      },
      "outputs": [
        {
          "output_type": "stream",
          "name": "stdout",
          "text": [
            "o\n"
          ]
        }
      ],
      "source": [
        "#cevap\n",
        "print(harf)"
      ]
    },
    {
      "cell_type": "code",
      "execution_count": 8,
      "metadata": {
        "id": "ufbINsaRp8En"
      },
      "outputs": [],
      "source": [
        "# 2) Asagidaki String'in 5. ve 8. karakteri arasindaki tum harflerini yazdiriniz (5 ve 8 dahil)"
      ]
    },
    {
      "cell_type": "code",
      "execution_count": 10,
      "metadata": {
        "id": "lzn84tQcp8En"
      },
      "outputs": [],
      "source": [
        "my_new_string = \"ProgramlamayaMerhabaDedik\""
      ]
    },
    {
      "cell_type": "code",
      "execution_count": 62,
      "metadata": {
        "id": "_FcbDr1hp8Eo"
      },
      "outputs": [],
      "source": [
        "#cevap\n",
        "harfler = my_new_string[4:9:]"
      ]
    },
    {
      "cell_type": "code",
      "execution_count": 63,
      "metadata": {
        "colab": {
          "base_uri": "https://localhost:8080/"
        },
        "id": "KzumdCwap8Ep",
        "outputId": "fe6df733-3677-4f42-8422-abc2503050b6"
      },
      "outputs": [
        {
          "output_type": "stream",
          "name": "stdout",
          "text": [
            "ramla\n"
          ]
        }
      ],
      "source": [
        "#cevap\n",
        "print(harfler)"
      ]
    },
    {
      "cell_type": "code",
      "execution_count": 13,
      "metadata": {
        "id": "1GEIqjdYp8Ep"
      },
      "outputs": [],
      "source": [
        "# 3) Asagidaki String'i kod ile tersten yazin"
      ]
    },
    {
      "cell_type": "code",
      "execution_count": 14,
      "metadata": {
        "id": "qz-eRLPgp8Eq"
      },
      "outputs": [],
      "source": [
        "my_last_string = \"Afyonkarahisarlilastiramadiklarimizdanmisiniz\""
      ]
    },
    {
      "cell_type": "code",
      "execution_count": 16,
      "metadata": {
        "id": "bHa6kzvxp8Eq"
      },
      "outputs": [],
      "source": [
        "#cevap\n",
        "ters = my_last_string[::-1]"
      ]
    },
    {
      "cell_type": "code",
      "execution_count": 17,
      "metadata": {
        "colab": {
          "base_uri": "https://localhost:8080/"
        },
        "id": "z2MAXQHmp8Eq",
        "outputId": "8ead42ef-1855-421c-ab8f-f56e3a29db8e"
      },
      "outputs": [
        {
          "output_type": "stream",
          "name": "stdout",
          "text": [
            "zinisimnadzimiralkidamaritsalilrasiharaknoyfA\n"
          ]
        }
      ],
      "source": [
        "#cevap\n",
        "print(ters)"
      ]
    },
    {
      "cell_type": "code",
      "execution_count": 18,
      "metadata": {
        "id": "PtJTJdw2p8Eq"
      },
      "outputs": [],
      "source": [
        "# 4) Asagidaki islemin sonucu hangi veri tipinde olacaktir?"
      ]
    },
    {
      "cell_type": "markdown",
      "metadata": {
        "id": "MbDdoUQDp8Eq"
      },
      "source": [
        "4 + 12.2 + 48"
      ]
    },
    {
      "cell_type": "code",
      "execution_count": 20,
      "metadata": {
        "id": "xPRpSifhp8Er"
      },
      "outputs": [],
      "source": [
        "#cevap\n",
        "a=4+12.2+48"
      ]
    },
    {
      "cell_type": "code",
      "execution_count": 22,
      "metadata": {
        "colab": {
          "base_uri": "https://localhost:8080/"
        },
        "id": "9qrzsrRAp8Er",
        "outputId": "81ea974f-3a56-4c12-faef-ee9b65c285d0"
      },
      "outputs": [
        {
          "output_type": "stream",
          "name": "stdout",
          "text": [
            "<class 'float'>\n"
          ]
        }
      ],
      "source": [
        "#cevap\n",
        "print(type(a))"
      ]
    },
    {
      "cell_type": "code",
      "execution_count": 23,
      "metadata": {
        "id": "m1g4rsTmp8Er"
      },
      "outputs": [],
      "source": [
        "# 5) Asagidaki islemin sonucu kactir?"
      ]
    },
    {
      "cell_type": "markdown",
      "metadata": {
        "id": "uX8dVcpOp8Es"
      },
      "source": [
        "5 + 7 * 12"
      ]
    },
    {
      "cell_type": "code",
      "execution_count": 24,
      "metadata": {
        "id": "s4HoZpgfp8Es"
      },
      "outputs": [],
      "source": [
        "#cevap\n",
        "b = 5 + 7*12"
      ]
    },
    {
      "cell_type": "code",
      "execution_count": 25,
      "metadata": {
        "colab": {
          "base_uri": "https://localhost:8080/"
        },
        "id": "Y9R0tj4Jp8Es",
        "outputId": "c721ecc3-70e5-45ad-e2f3-7844cf91c281"
      },
      "outputs": [
        {
          "output_type": "stream",
          "name": "stdout",
          "text": [
            "89\n"
          ]
        }
      ],
      "source": [
        "#cevap\n",
        "print(b)"
      ]
    },
    {
      "cell_type": "code",
      "execution_count": null,
      "metadata": {
        "id": "Y4CL4TEvp8Es"
      },
      "outputs": [],
      "source": [
        "# 6) Bu listeyi en az 2 farkli yoldan olusturunuz: [1,3,\"a\"]"
      ]
    },
    {
      "cell_type": "code",
      "execution_count": 26,
      "metadata": {
        "id": "cm3m2Exxp8Es"
      },
      "outputs": [],
      "source": [
        "#cevap\n",
        "liste = [1,3,\"a\"]"
      ]
    },
    {
      "cell_type": "code",
      "execution_count": 30,
      "metadata": {
        "id": "FDfZNsCjp8Es"
      },
      "outputs": [],
      "source": [
        "#cevap\n",
        "my_list_1 = list((1,3,\"a\"))"
      ]
    },
    {
      "cell_type": "code",
      "execution_count": 31,
      "metadata": {
        "colab": {
          "base_uri": "https://localhost:8080/"
        },
        "id": "bqC3PTR2p8Es",
        "outputId": "d13bcea4-8e5b-4e87-afd5-24e7f75139db"
      },
      "outputs": [
        {
          "output_type": "stream",
          "name": "stdout",
          "text": [
            "[1, 3, 'a']\n",
            "[1, 3, 'a']\n"
          ]
        }
      ],
      "source": [
        "#cevap\n",
        "print(liste)\n",
        "print(my_list_1)"
      ]
    },
    {
      "cell_type": "code",
      "execution_count": 32,
      "metadata": {
        "id": "ez1eh6ELp8Es"
      },
      "outputs": [],
      "source": [
        "# 7) Asagidaki \"b\"'yi tek satirda aliniz:"
      ]
    },
    {
      "cell_type": "code",
      "execution_count": 33,
      "metadata": {
        "id": "FYsOKcg5p8Es"
      },
      "outputs": [],
      "source": [
        "my_list = [3.14,4,[2,3,\"b\"],True]"
      ]
    },
    {
      "cell_type": "code",
      "execution_count": 37,
      "metadata": {
        "id": "qInWy6Yjp8Es"
      },
      "outputs": [],
      "source": [
        "#cevap\n",
        "b_char = my_list[2][2]"
      ]
    },
    {
      "cell_type": "code",
      "execution_count": 38,
      "metadata": {
        "colab": {
          "base_uri": "https://localhost:8080/"
        },
        "id": "X1Bkd8rhp8Es",
        "outputId": "b7e421af-95d1-4de1-dda2-7a85d5a0af77"
      },
      "outputs": [
        {
          "output_type": "stream",
          "name": "stdout",
          "text": [
            "b\n"
          ]
        }
      ],
      "source": [
        "#cevap\n",
        "print(b_char)"
      ]
    },
    {
      "cell_type": "code",
      "execution_count": 39,
      "metadata": {
        "id": "fxOlc0uVp8Et"
      },
      "outputs": [],
      "source": [
        "#cevap"
      ]
    },
    {
      "cell_type": "code",
      "execution_count": 40,
      "metadata": {
        "id": "m6iznznOp8Et"
      },
      "outputs": [],
      "source": [
        "# 8) Asagidaki \"a\"'yi tek satirda aliniz:"
      ]
    },
    {
      "cell_type": "code",
      "execution_count": 41,
      "metadata": {
        "id": "OsTX0hnop8Et"
      },
      "outputs": [],
      "source": [
        "my_dictionary = {\"key1\":20.25, \"kk2\":[40,{\"k21\":\"a\"}]}"
      ]
    },
    {
      "cell_type": "code",
      "execution_count": 45,
      "metadata": {
        "id": "H2gwg_MYp8Et"
      },
      "outputs": [],
      "source": [
        "#cevap\n",
        "a_char = my_dictionary[\"kk2\"][1][\"k21\"]"
      ]
    },
    {
      "cell_type": "code",
      "execution_count": 46,
      "metadata": {
        "colab": {
          "base_uri": "https://localhost:8080/"
        },
        "id": "CARD83rap8Et",
        "outputId": "3596cbcb-ccec-48bd-b9b7-1a14d84aead3"
      },
      "outputs": [
        {
          "output_type": "stream",
          "name": "stdout",
          "text": [
            "a\n"
          ]
        }
      ],
      "source": [
        "#cevap\n",
        "print(a_char)"
      ]
    },
    {
      "cell_type": "code",
      "execution_count": 47,
      "metadata": {
        "id": "1DQ8fW4kp8Et"
      },
      "outputs": [],
      "source": [
        "# 9) Asagidaki liste set'e cevirilince hangi degerler icinde kalacaktir?"
      ]
    },
    {
      "cell_type": "code",
      "execution_count": 48,
      "metadata": {
        "id": "JvKXDoTlp8Et"
      },
      "outputs": [],
      "source": [
        "my_list_to_be_set = [3,4,9,3,21,22,4,3,9,10,21,22]"
      ]
    },
    {
      "cell_type": "code",
      "execution_count": 49,
      "metadata": {
        "id": "G9L-XGUSp8Et"
      },
      "outputs": [],
      "source": [
        "#cevap\n",
        "my_set =  set (my_list_to_be_set)"
      ]
    },
    {
      "cell_type": "code",
      "execution_count": 51,
      "metadata": {
        "colab": {
          "base_uri": "https://localhost:8080/"
        },
        "id": "mHg_wMlQp8Et",
        "outputId": "4fe43ce5-8bde-49a6-cbab-3a56e455cf3f"
      },
      "outputs": [
        {
          "output_type": "stream",
          "name": "stdout",
          "text": [
            "{3, 4, 9, 10, 21, 22}\n"
          ]
        }
      ],
      "source": [
        "#cevap\n",
        "print(my_set)"
      ]
    },
    {
      "cell_type": "code",
      "execution_count": 52,
      "metadata": {
        "id": "RKDBpY5Hp8Eu"
      },
      "outputs": [],
      "source": [
        "# 10) Asagidaki ifadenin sonucu ne olacaktir?"
      ]
    },
    {
      "cell_type": "code",
      "execution_count": 64,
      "metadata": {
        "id": "YWI-02Qep8Eu"
      },
      "outputs": [],
      "source": [
        "x = 30 * 5 + 3"
      ]
    },
    {
      "cell_type": "code",
      "execution_count": 65,
      "metadata": {
        "id": "qy-FyVxop8Ex"
      },
      "outputs": [],
      "source": [
        "y = 108 - 2 * 4"
      ]
    },
    {
      "cell_type": "markdown",
      "metadata": {
        "id": "S0tGc9Wcp8Ex"
      },
      "source": [
        "x > y"
      ]
    },
    {
      "cell_type": "code",
      "execution_count": 66,
      "metadata": {
        "colab": {
          "base_uri": "https://localhost:8080/"
        },
        "id": "Ouzirz0Bp8Ey",
        "outputId": "d93e92d4-5108-4b0d-cd00-47a73d5d8f89"
      },
      "outputs": [
        {
          "output_type": "execute_result",
          "data": {
            "text/plain": [
              "153"
            ]
          },
          "metadata": {},
          "execution_count": 66
        }
      ],
      "source": [
        "#cevap\n",
        "x"
      ]
    },
    {
      "cell_type": "code",
      "execution_count": 67,
      "metadata": {
        "colab": {
          "base_uri": "https://localhost:8080/"
        },
        "id": "kBERe1QFp8Ey",
        "outputId": "a67e9c16-75ad-45b1-fd8c-9c72b677606c"
      },
      "outputs": [
        {
          "output_type": "execute_result",
          "data": {
            "text/plain": [
              "100"
            ]
          },
          "metadata": {},
          "execution_count": 67
        }
      ],
      "source": [
        "#cevap\n",
        "y"
      ]
    },
    {
      "cell_type": "code",
      "execution_count": 68,
      "metadata": {
        "colab": {
          "base_uri": "https://localhost:8080/"
        },
        "id": "Tx_gh4pvp8Ey",
        "outputId": "f9135c6e-af66-4c99-dde8-b043210d0fa8"
      },
      "outputs": [
        {
          "output_type": "execute_result",
          "data": {
            "text/plain": [
              "True"
            ]
          },
          "metadata": {},
          "execution_count": 68
        }
      ],
      "source": [
        "#cevap\n",
        "x>y"
      ]
    },
    {
      "cell_type": "code",
      "execution_count": null,
      "metadata": {
        "id": "LDAGYeKXp8Ey"
      },
      "outputs": [],
      "source": []
    }
  ],
  "metadata": {
    "kernelspec": {
      "display_name": "Python 3",
      "language": "python",
      "name": "python3"
    },
    "language_info": {
      "codemirror_mode": {
        "name": "ipython",
        "version": 3
      },
      "file_extension": ".py",
      "mimetype": "text/x-python",
      "name": "python",
      "nbconvert_exporter": "python",
      "pygments_lexer": "ipython3",
      "version": "3.8.5"
    },
    "colab": {
      "provenance": [],
      "include_colab_link": true
    }
  },
  "nbformat": 4,
  "nbformat_minor": 0
}